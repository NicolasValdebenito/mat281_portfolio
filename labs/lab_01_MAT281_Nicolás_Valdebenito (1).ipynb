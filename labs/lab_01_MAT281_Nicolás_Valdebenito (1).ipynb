{
  "nbformat": 4,
  "nbformat_minor": 0,
  "metadata": {
    "kernelspec": {
      "display_name": "Python 3",
      "language": "python",
      "name": "python3"
    },
    "language_info": {
      "codemirror_mode": {
        "name": "ipython",
        "version": 3
      },
      "file_extension": ".py",
      "mimetype": "text/x-python",
      "name": "python",
      "nbconvert_exporter": "python",
      "pygments_lexer": "ipython3",
      "version": "3.8.10"
    },
    "colab": {
      "name": "lab_01_MAT281_Nicolás_Valdebenito.ipynb",
      "provenance": [],
      "collapsed_sections": [],
      "toc_visible": true
    }
  },
  "cells": [
    {
      "cell_type": "markdown",
      "metadata": {
        "id": "LtjY65pt08qy"
      },
      "source": [
        "# MAT281 - Laboratorio N°01"
      ]
    },
    {
      "cell_type": "markdown",
      "metadata": {
        "id": "ND6h7a4m08q4"
      },
      "source": [
        "<a id='p1'></a>\n",
        "\n",
        "## Problema 01\n",
        "\n",
        "### a) Calcular el número $\\pi$\n",
        "\n",
        "En los siglos XVII y XVIII, James Gregory y Gottfried Leibniz descubrieron una serie infinita que sirve para calcular $\\pi$:\n",
        "\n",
        "$$\\displaystyle \\pi = 4 \\sum_{n=1}^{\\infty}\\dfrac{(-1)^{n+1}}{2n-1} = 4\\left(1-\\dfrac{1}{3}+\\dfrac{1}{5}-\\dfrac{1}{7} + ...\\right) $$\n",
        "\n",
        "$\\textbf{Proof:}$\n",
        "\n",
        "Usando la serie geométrica es fácil ver que:\n",
        "\\begin{align*}\n",
        "  \\frac{1}{1+x^2}=\\sum_{n=0}^\\infty (-1)^nx^{2n}\\hspace{.5cm}\\forall x\\in(-1,1)\n",
        "\\end{align*}\n",
        "Integrando a ambos lados:\n",
        "\\begin{align*}\n",
        "  \\int_0^x\\frac{du}{1+u^2}&=\\sum_{n=0}^\\infty (-1)^n\\int_0^x u^{2n}du\\\\\n",
        "  arctan(x)&=\\sum_{n=0}^\\infty (-1)^n\\frac{x^{2n+1}}{2n+1}\\hspace{.5cm}\\forall x\\in[-1,1]\n",
        "\\end{align*}\n",
        "Evaluando para $x=1$ se tiene:\n",
        "\\begin{align*}\n",
        "  \\frac{\\pi}{4}=arctan(1)=\\sum_{n=0}^\\infty\\frac{(-1)^n}{2n+1}=\\sum_{n=1}^\\infty\\frac{(-1)^{n+1}}{2n-1}\n",
        "\\end{align*}\n",
        "Se concluye lo siguiente:\n",
        "\\begin{align*}\n",
        "  \\pi=4\\sum_{n=1}^\\infty\\frac{(-1)^{n+1}}{2n-1}=4\\left(1-\\dfrac{1}{3}+\\dfrac{1}{5}-\\dfrac{1}{7} + ...\\right) \n",
        "\\end{align*}\n",
        "\n",
        "Desarolle un programa para estimar el valor de $\\pi$ ocupando el método de Leibniz, donde la entrada del programa debe ser un número entero $n$ que indique cuántos términos de la suma se utilizará.\n",
        "\n",
        "\n",
        "* **Ejemplo**: *calcular_pi(3)* = 3.466666666666667, *calcular_pi(1000)* = 3.140592653839794\n"
      ]
    },
    {
      "cell_type": "markdown",
      "metadata": {
        "id": "pclUHN3dDa3_"
      },
      "source": [
        "##Observación\n",
        "\n",
        "En la práctica, la fórmula de Leibniz es muy poco eficiente para el cálculo de $\\pi$, pues requiere un número enorme de pasos para obtener cierta precisión. Para calcular π con 10 decimales correctos hacen falta más de cinco mil millones de operaciones matemáticas, que los ordenadores tardarán más en realizar que en calcular $\\pi$ con millones de decimales correctos mediante fórmulas más eficientes."
      ]
    },
    {
      "cell_type": "markdown",
      "metadata": {
        "id": "WYNVax-T08q5"
      },
      "source": [
        "### Definir Función\n"
      ]
    },
    {
      "cell_type": "code",
      "metadata": {
        "id": "GxVlV1TP08q6"
      },
      "source": [
        "def calcular_pi(n:int)->float:\n",
        "    \n",
        "    \"\"\"\n",
        "    calcular_pi(n)\n",
        "\n",
        "    Aproximacion del valor de pi mediante el método de Leibniz\n",
        "\n",
        "    Parameters\n",
        "    ----------\n",
        "    n : int\n",
        "        Numero de terminos.\n",
        "\n",
        "    Returns\n",
        "    -------\n",
        "    output : float\n",
        "        Valor aproximado de pi.\n",
        "        \n",
        "    Examples\n",
        "    --------\n",
        "    >>> calcular_pi(3)\n",
        "    3.466666666666667\n",
        "    \n",
        "    >>> calcular_pi(1000) \n",
        "    3.140592653839794\n",
        "    \"\"\"\n",
        "    \n",
        "    pi = 0 # valor incial \n",
        "    for k in range(1,n+1):\n",
        "        numerador = (-1)**(k+1) # numerador de la iteracion i\n",
        "        denominador = 2*k-1  # denominador de la iteracion i\n",
        "        pi+=numerador/denominador # suma hasta el i-esimo termino\n",
        "    \n",
        "    return 4*pi"
      ],
      "execution_count": null,
      "outputs": []
    },
    {
      "cell_type": "code",
      "metadata": {
        "colab": {
          "base_uri": "https://localhost:8080/"
        },
        "id": "qR30SSCDUqXU",
        "outputId": "7ce754f5-d838-4061-fba2-86af4768f70a"
      },
      "source": [
        "calcular_pi(999999)"
      ],
      "execution_count": null,
      "outputs": [
        {
          "output_type": "execute_result",
          "data": {
            "text/plain": [
              "3.1415936535907742"
            ]
          },
          "metadata": {},
          "execution_count": 7
        }
      ]
    },
    {
      "cell_type": "code",
      "metadata": {
        "scrolled": false,
        "colab": {
          "base_uri": "https://localhost:8080/"
        },
        "id": "bUYc38ty08q7",
        "outputId": "c3da4b37-8e7a-431c-930a-9adca8ba7b58"
      },
      "source": [
        "# Acceso a la documentación\n",
        "help(calcular_pi)"
      ],
      "execution_count": null,
      "outputs": [
        {
          "output_type": "stream",
          "name": "stdout",
          "text": [
            "Help on function calcular_pi in module __main__:\n",
            "\n",
            "calcular_pi(n: int) -> float\n",
            "    calcular_pi(n)\n",
            "    \n",
            "    Aproximacion del valor de pi mediante el método de Leibniz\n",
            "    \n",
            "    Parameters\n",
            "    ----------\n",
            "    n : int\n",
            "        Numero de terminos.\n",
            "    \n",
            "    Returns\n",
            "    -------\n",
            "    output : float\n",
            "        Valor aproximado de pi.\n",
            "        \n",
            "    Examples\n",
            "    --------\n",
            "    >>> calcular_pi(3)\n",
            "    3.466666666666667\n",
            "    \n",
            "    >>> calcular_pi(1000) \n",
            "    3.140592653839794\n",
            "\n"
          ]
        }
      ]
    },
    {
      "cell_type": "markdown",
      "metadata": {
        "id": "SlXDOUj508q8"
      },
      "source": [
        "### Verificar ejemplos"
      ]
    },
    {
      "cell_type": "code",
      "metadata": {
        "colab": {
          "base_uri": "https://localhost:8080/"
        },
        "id": "hE8Ckl8AVony",
        "outputId": "4f42541d-3912-4312-f8bb-5062bf111310"
      },
      "source": [
        "calcular_pi(3)"
      ],
      "execution_count": null,
      "outputs": [
        {
          "output_type": "execute_result",
          "data": {
            "text/plain": [
              "3.466666666666667"
            ]
          },
          "metadata": {},
          "execution_count": 20
        }
      ]
    },
    {
      "cell_type": "code",
      "metadata": {
        "colab": {
          "base_uri": "https://localhost:8080/"
        },
        "id": "flHSYY4KVor3",
        "outputId": "ed91d5d3-39b7-46b6-d39c-4fe6e8b00933"
      },
      "source": [
        "calcular_pi(1000)"
      ],
      "execution_count": null,
      "outputs": [
        {
          "output_type": "execute_result",
          "data": {
            "text/plain": [
              "3.140592653839794"
            ]
          },
          "metadata": {},
          "execution_count": 21
        }
      ]
    },
    {
      "cell_type": "code",
      "metadata": {
        "id": "OlgeYVnG08q9"
      },
      "source": [
        "# ejemplo 01\n",
        "assert calcular_pi(3) == 3.466666666666667, \"ejemplo 01 incorrecto\""
      ],
      "execution_count": null,
      "outputs": []
    },
    {
      "cell_type": "code",
      "metadata": {
        "id": "SZhBHilB08q-"
      },
      "source": [
        "# ejemplo 02\n",
        "assert calcular_pi(1000) == 3.140592653839794, \"ejemplo 02 incorrecto\""
      ],
      "execution_count": null,
      "outputs": []
    },
    {
      "cell_type": "markdown",
      "metadata": {
        "id": "IT1w1UkT08q_"
      },
      "source": [
        "**Observación**:\n",
        "\n",
        "* Note que si corre la línea de comando `calcular_pi(3.0)` le mandará un error ... ¿ por qué ? *Porque 3.0 es un float*\n",
        "* En los laboratorio, no se pide ser tan meticuloso con la documentacion.\n",
        "* Lo primero es definir el código, correr los ejemplos  y  luego documentar correctamente.\n"
      ]
    },
    {
      "cell_type": "markdown",
      "metadata": {
        "id": "9uc7hh4E08q_"
      },
      "source": [
        "### b) Calcular el número $e$\n",
        "\n",
        "Euler realizó varios aportes en relación a $e$, pero no fue hasta 1748 cuando publicó su **Introductio in analysin infinitorum** que dio un tratamiento definitivo a las ideas sobre $e$. Allí mostró que:\n",
        "\n",
        "\n",
        "En los siglos XVII y XVIII, James Gregory y Gottfried Leibniz descubrieron una serie infinita que sirve para calcular π:\n",
        "\n",
        "$$\\displaystyle e = \\sum_{k=0}^{\\infty}\\dfrac{1}{k!} = 1+\\dfrac{1}{2!}+\\dfrac{1}{3!}+\\dfrac{1}{4!} + ... $$\n",
        "\n",
        "Desarolle un programa para estimar el valor de $e$ ocupando el método de Euler, donde la entrada del programa debe ser un número entero $n$ que indique cuántos términos de la suma se utilizará.\n",
        "\n",
        "\n",
        "* **Ejemplo**: *calcular_e(3)* =2.5, *calcular_e(1000)* = 2.7182818284590455"
      ]
    },
    {
      "cell_type": "markdown",
      "metadata": {
        "id": "psHS6YYa08rA"
      },
      "source": [
        "### Definir función"
      ]
    },
    {
      "cell_type": "code",
      "metadata": {
        "id": "-tWG7xh208rA"
      },
      "source": [
        "from math import factorial\n",
        "\n",
        "def calcular_e(n:int)->float:\n",
        "    e = 0 # valor incial \n",
        "    for k in range(1,n+1):\n",
        "        numerador = 1 # numerador de la iteracion i\n",
        "        denominador = factorial(k)  # denominador de la iteracion i\n",
        "        e+=numerador/denominador # suma hasta el i-esimo termino\n",
        "    return e"
      ],
      "execution_count": null,
      "outputs": []
    },
    {
      "cell_type": "code",
      "metadata": {
        "colab": {
          "base_uri": "https://localhost:8080/"
        },
        "id": "31Sjcaze_3_Y",
        "outputId": "dfddb62a-e793-47af-bf48-261966ab5cd4"
      },
      "source": [
        "calcular_e(9999)"
      ],
      "execution_count": null,
      "outputs": [
        {
          "output_type": "execute_result",
          "data": {
            "text/plain": [
              "1.7182818284590455"
            ]
          },
          "metadata": {},
          "execution_count": 14
        }
      ]
    },
    {
      "cell_type": "code",
      "metadata": {
        "colab": {
          "base_uri": "https://localhost:8080/"
        },
        "id": "e9iymbERVg-Z",
        "outputId": "69115b24-888c-433e-90f7-711fb8cc8e5e"
      },
      "source": [
        "calcular_e(3)"
      ],
      "execution_count": null,
      "outputs": [
        {
          "output_type": "execute_result",
          "data": {
            "text/plain": [
              "1.6666666666666667"
            ]
          },
          "metadata": {},
          "execution_count": 18
        }
      ]
    },
    {
      "cell_type": "code",
      "metadata": {
        "colab": {
          "base_uri": "https://localhost:8080/"
        },
        "id": "CNs02UIrVhHN",
        "outputId": "4299171f-e1de-4665-be0a-3bca304b389a"
      },
      "source": [
        "calcular_e(1000)"
      ],
      "execution_count": null,
      "outputs": [
        {
          "output_type": "execute_result",
          "data": {
            "text/plain": [
              "1.7182818284590455"
            ]
          },
          "metadata": {},
          "execution_count": 19
        }
      ]
    },
    {
      "cell_type": "markdown",
      "metadata": {
        "id": "d78uvXo908rB"
      },
      "source": [
        "### Verificar ejemplos"
      ]
    },
    {
      "cell_type": "code",
      "metadata": {
        "colab": {
          "base_uri": "https://localhost:8080/",
          "height": 181
        },
        "id": "R2aQouz608rB",
        "outputId": "1c2fe259-f649-48e3-b839-f98358d705f5"
      },
      "source": [
        "# ejemplo 01\n",
        "assert calcular_e(3) == 2.5, \"ejemplo 01 incorrecto\""
      ],
      "execution_count": null,
      "outputs": [
        {
          "output_type": "error",
          "ename": "AssertionError",
          "evalue": "ignored",
          "traceback": [
            "\u001b[0;31m---------------------------------------------------------------------------\u001b[0m",
            "\u001b[0;31mAssertionError\u001b[0m                            Traceback (most recent call last)",
            "\u001b[0;32m<ipython-input-16-872770e6d47c>\u001b[0m in \u001b[0;36m<module>\u001b[0;34m()\u001b[0m\n\u001b[1;32m      1\u001b[0m \u001b[0;31m# ejemplo 01\u001b[0m\u001b[0;34m\u001b[0m\u001b[0;34m\u001b[0m\u001b[0;34m\u001b[0m\u001b[0m\n\u001b[0;32m----> 2\u001b[0;31m \u001b[0;32massert\u001b[0m \u001b[0mcalcular_e\u001b[0m\u001b[0;34m(\u001b[0m\u001b[0;36m3\u001b[0m\u001b[0;34m)\u001b[0m \u001b[0;34m==\u001b[0m \u001b[0;36m2.5\u001b[0m\u001b[0;34m,\u001b[0m \u001b[0;34m\"ejemplo 01 incorrecto\"\u001b[0m\u001b[0;34m\u001b[0m\u001b[0;34m\u001b[0m\u001b[0m\n\u001b[0m",
            "\u001b[0;31mAssertionError\u001b[0m: ejemplo 01 incorrecto"
          ]
        }
      ]
    },
    {
      "cell_type": "code",
      "metadata": {
        "colab": {
          "base_uri": "https://localhost:8080/",
          "height": 181
        },
        "id": "ESYGlc5L08rC",
        "outputId": "66177bbd-ed41-43a7-dbe9-aaaca28aa9f3"
      },
      "source": [
        "# ejemplo 02\n",
        "assert calcular_e(1000) ==  2.7182818284590455, \"ejemplo 02 incorrecto\""
      ],
      "execution_count": null,
      "outputs": [
        {
          "output_type": "error",
          "ename": "AssertionError",
          "evalue": "ignored",
          "traceback": [
            "\u001b[0;31m---------------------------------------------------------------------------\u001b[0m",
            "\u001b[0;31mAssertionError\u001b[0m                            Traceback (most recent call last)",
            "\u001b[0;32m<ipython-input-17-15239e893581>\u001b[0m in \u001b[0;36m<module>\u001b[0;34m()\u001b[0m\n\u001b[1;32m      1\u001b[0m \u001b[0;31m# ejemplo 02\u001b[0m\u001b[0;34m\u001b[0m\u001b[0;34m\u001b[0m\u001b[0;34m\u001b[0m\u001b[0m\n\u001b[0;32m----> 2\u001b[0;31m \u001b[0;32massert\u001b[0m \u001b[0mcalcular_e\u001b[0m\u001b[0;34m(\u001b[0m\u001b[0;36m1000\u001b[0m\u001b[0;34m)\u001b[0m \u001b[0;34m==\u001b[0m  \u001b[0;36m2.7182818284590455\u001b[0m\u001b[0;34m,\u001b[0m \u001b[0;34m\"ejemplo 02 incorrecto\"\u001b[0m\u001b[0;34m\u001b[0m\u001b[0;34m\u001b[0m\u001b[0m\n\u001b[0m",
            "\u001b[0;31mAssertionError\u001b[0m: ejemplo 02 incorrecto"
          ]
        }
      ]
    },
    {
      "cell_type": "markdown",
      "metadata": {
        "id": "xPV_CTMp08rC"
      },
      "source": [
        "<a id='p2'></a>\n",
        "\n",
        "## Problema 02\n",
        "\n",
        "\n",
        "Sea $\\sigma(n)$ definido como la suma de los divisores propios de $n$ (números menores que n que se dividen en $n$).\n",
        "\n",
        "Los [números amigos](https://en.wikipedia.org/wiki/Amicable_numbers) son  enteros positivos $n_1$ y $n_2$ tales que la suma de los divisores propios de uno es igual al otro número y viceversa, es decir, $\\sigma(n_1)=\\sigma(n_2)$ y $\\sigma(n_2)=\\sigma(n_1)$.\n",
        "\n",
        "\n",
        "Por ejemplo, los números 220 y 284 son números amigos.\n",
        "* los divisores propios de 220 son 1, 2, 4, 5, 10, 11, 20, 22, 44, 55 y 110; por lo tanto $\\sigma(220) = 284$. \n",
        "* los divisores propios de 284 son 1, 2, 4, 71 y 142; entonces $\\sigma(284) = 220$.\n",
        "\n",
        "\n",
        "Implemente una función llamada `amigos` cuyo input sean dos números naturales $n_1$ y $n_2$, cuyo output sea verifique si los números son amigos o no.\n",
        "\n",
        "* **Ejemplo**: *amigos(220,284)* = True, *amigos(6,5)* = False\n"
      ]
    },
    {
      "cell_type": "markdown",
      "metadata": {
        "id": "3hjtCcJq08rC"
      },
      "source": [
        "### Definir Función"
      ]
    },
    {
      "cell_type": "code",
      "metadata": {
        "id": "oEIZytup08rD"
      },
      "source": [
        "def numeros_amigos(a:int,b:int):\n",
        "    sigma_a=0\n",
        "    sigma_b=0\n",
        "\n",
        "    for i in range(1,a):\n",
        "        if a%i==0:\n",
        "            sigma_a+=i\n",
        "\n",
        "    for j in range(1,b):\n",
        "        if b%j==0:\n",
        "            sigma_b+=j \n",
        "\n",
        "    return sigma_a==b and sigma_b==a               "
      ],
      "execution_count": null,
      "outputs": []
    },
    {
      "cell_type": "code",
      "metadata": {
        "colab": {
          "base_uri": "https://localhost:8080/"
        },
        "id": "vgHZ2nPlgXsX",
        "outputId": "10a96d79-6d3c-4d71-b865-beaa706cfb81"
      },
      "source": [
        "numeros_amigos(1184,1210)"
      ],
      "execution_count": null,
      "outputs": [
        {
          "output_type": "execute_result",
          "data": {
            "text/plain": [
              "True"
            ]
          },
          "metadata": {},
          "execution_count": 33
        }
      ]
    },
    {
      "cell_type": "code",
      "metadata": {
        "colab": {
          "base_uri": "https://localhost:8080/"
        },
        "id": "vlrzaFIUgX3b",
        "outputId": "5d65e825-df98-4330-e074-380655feb26f"
      },
      "source": [
        "numeros_amigos(2620,2924)"
      ],
      "execution_count": null,
      "outputs": [
        {
          "output_type": "execute_result",
          "data": {
            "text/plain": [
              "True"
            ]
          },
          "metadata": {},
          "execution_count": 34
        }
      ]
    },
    {
      "cell_type": "code",
      "metadata": {
        "colab": {
          "base_uri": "https://localhost:8080/"
        },
        "id": "RpJlHFALdKYP",
        "outputId": "42545450-9dcd-4a0f-e699-7fa7c2ee8baf"
      },
      "source": [
        "numeros_amigos(220,284)"
      ],
      "execution_count": null,
      "outputs": [
        {
          "output_type": "execute_result",
          "data": {
            "text/plain": [
              "True"
            ]
          },
          "metadata": {},
          "execution_count": 32
        }
      ]
    },
    {
      "cell_type": "code",
      "metadata": {
        "colab": {
          "base_uri": "https://localhost:8080/"
        },
        "id": "iQa8MXrNgYEe",
        "outputId": "49a13fb4-16a3-404d-cbbe-016c46ad98c5"
      },
      "source": [
        "numeros_amigos(6,5)"
      ],
      "execution_count": null,
      "outputs": [
        {
          "output_type": "execute_result",
          "data": {
            "text/plain": [
              "False"
            ]
          },
          "metadata": {},
          "execution_count": 35
        }
      ]
    },
    {
      "cell_type": "markdown",
      "metadata": {
        "id": "E_k0elJj08rD"
      },
      "source": [
        "### Verificar ejemplos"
      ]
    },
    {
      "cell_type": "code",
      "metadata": {
        "id": "0jEgJBs208rD"
      },
      "source": [
        "# ejemplo 01\n",
        "assert numeros_amigos(220,284) == True, \"ejemplo 01 incorrecto\""
      ],
      "execution_count": null,
      "outputs": []
    },
    {
      "cell_type": "code",
      "metadata": {
        "id": "wBmN2J9v08rD"
      },
      "source": [
        "# ejemplo 02\n",
        "assert numeros_amigos(6,5) == False, \"ejemplo 02 incorrecto\""
      ],
      "execution_count": null,
      "outputs": []
    },
    {
      "cell_type": "markdown",
      "metadata": {
        "id": "VK_L1A6I08rD"
      },
      "source": [
        "<a id='p3'></a>\n",
        "\n",
        "## Problema 03\n",
        "\n",
        "La [conjetura de Collatz](https://en.wikipedia.org/wiki/Collatz_conjecture), conocida también como conjetura $3n+1$ o conjetura de Ulam (entre otros nombres), fue enunciada por el matemático Lothar Collatz en 1937, y a la fecha no se ha resuelto.\n",
        "\n",
        "Sea la siguiente operación, aplicable a cualquier número entero positivo:\n",
        "* Si el número es par, se divide entre 2.\n",
        "* Si el número es impar, se multiplica por 3 y se suma 1.\n",
        "\n",
        "La conjetura dice que siempre alcanzaremos el 1 (y por tanto el ciclo 4, 2, 1) para cualquier número con el que comencemos. \n",
        "\n",
        "Implemente una función llamada `collatz` cuyo input sea un número natural positivo $N$ y como output devulva la secuencia de números hasta llegar a 1.\n",
        "\n",
        "* **Ejemplo**: *collatz(9)* = [9, 28, 14, 7, 22, 11, 34, 17, 52, 26, 13, 40, 20, 10, 5, 16, 8, 4, 2, 1]"
      ]
    },
    {
      "cell_type": "markdown",
      "metadata": {
        "id": "dYrfaG7v08rE"
      },
      "source": [
        "### Definir Función"
      ]
    },
    {
      "cell_type": "code",
      "metadata": {
        "id": "OOGlC5_O08rE"
      },
      "source": [
        "def collatz(n:int):\n",
        "\tresult = [n]\n",
        "\twhile n > 1:\n",
        "\t\tif (n % 2) == 0:\n",
        "\t\t\tn = int(n/2)\n",
        "\t\telse:\n",
        "\t\t\tn = n*3 + 1\t\t\n",
        "\t\tresult.append(n)\n",
        "\tprint(result)"
      ],
      "execution_count": null,
      "outputs": []
    },
    {
      "cell_type": "code",
      "metadata": {
        "colab": {
          "base_uri": "https://localhost:8080/"
        },
        "id": "cLPtf23uitvB",
        "outputId": "e6a61469-340e-41ff-d103-35a8cfbd8378"
      },
      "source": [
        "collatz(9)"
      ],
      "execution_count": null,
      "outputs": [
        {
          "output_type": "stream",
          "name": "stdout",
          "text": [
            "[9, 28, 14, 7, 22, 11, 34, 17, 52, 26, 13, 40, 20, 10, 5, 16, 8, 4, 2, 1]\n"
          ]
        }
      ]
    },
    {
      "cell_type": "markdown",
      "metadata": {
        "id": "pavjms0I08rE"
      },
      "source": [
        "### Verificar ejemplos"
      ]
    },
    {
      "cell_type": "code",
      "metadata": {
        "colab": {
          "base_uri": "https://localhost:8080/",
          "height": 198
        },
        "id": "iKp3B1sO08rE",
        "outputId": "e475e86a-82b8-4202-d67a-3e6f51d54b99"
      },
      "source": [
        "# ejemplo 01\n",
        "assert collatz(9) == [9, 28, 14, 7, 22, 11, 34, 17, 52, 26, 13, 40, 20, 10, 5, 16, 8, 4, 2, 1], \"ejemplo 01 incorrecto\""
      ],
      "execution_count": null,
      "outputs": [
        {
          "output_type": "stream",
          "name": "stdout",
          "text": [
            "[9, 28, 14, 7, 22, 11, 34, 17, 52, 26, 13, 40, 20, 10, 5, 16, 8, 4, 2, 1]\n"
          ]
        },
        {
          "output_type": "error",
          "ename": "AssertionError",
          "evalue": "ignored",
          "traceback": [
            "\u001b[0;31m---------------------------------------------------------------------------\u001b[0m",
            "\u001b[0;31mAssertionError\u001b[0m                            Traceback (most recent call last)",
            "\u001b[0;32m<ipython-input-47-ab5fdaecb564>\u001b[0m in \u001b[0;36m<module>\u001b[0;34m()\u001b[0m\n\u001b[1;32m      1\u001b[0m \u001b[0;31m# ejemplo 01\u001b[0m\u001b[0;34m\u001b[0m\u001b[0;34m\u001b[0m\u001b[0;34m\u001b[0m\u001b[0m\n\u001b[0;32m----> 2\u001b[0;31m \u001b[0;32massert\u001b[0m \u001b[0mcollatz\u001b[0m\u001b[0;34m(\u001b[0m\u001b[0;36m9\u001b[0m\u001b[0;34m)\u001b[0m \u001b[0;34m==\u001b[0m \u001b[0;34m[\u001b[0m\u001b[0;36m9\u001b[0m\u001b[0;34m,\u001b[0m \u001b[0;36m28\u001b[0m\u001b[0;34m,\u001b[0m \u001b[0;36m14\u001b[0m\u001b[0;34m,\u001b[0m \u001b[0;36m7\u001b[0m\u001b[0;34m,\u001b[0m \u001b[0;36m22\u001b[0m\u001b[0;34m,\u001b[0m \u001b[0;36m11\u001b[0m\u001b[0;34m,\u001b[0m \u001b[0;36m34\u001b[0m\u001b[0;34m,\u001b[0m \u001b[0;36m17\u001b[0m\u001b[0;34m,\u001b[0m \u001b[0;36m52\u001b[0m\u001b[0;34m,\u001b[0m \u001b[0;36m26\u001b[0m\u001b[0;34m,\u001b[0m \u001b[0;36m13\u001b[0m\u001b[0;34m,\u001b[0m \u001b[0;36m40\u001b[0m\u001b[0;34m,\u001b[0m \u001b[0;36m20\u001b[0m\u001b[0;34m,\u001b[0m \u001b[0;36m10\u001b[0m\u001b[0;34m,\u001b[0m \u001b[0;36m5\u001b[0m\u001b[0;34m,\u001b[0m \u001b[0;36m16\u001b[0m\u001b[0;34m,\u001b[0m \u001b[0;36m8\u001b[0m\u001b[0;34m,\u001b[0m \u001b[0;36m4\u001b[0m\u001b[0;34m,\u001b[0m \u001b[0;36m2\u001b[0m\u001b[0;34m,\u001b[0m \u001b[0;36m1\u001b[0m\u001b[0;34m]\u001b[0m\u001b[0;34m,\u001b[0m \u001b[0;34m\"ejemplo 01 incorrecto\"\u001b[0m\u001b[0;34m\u001b[0m\u001b[0;34m\u001b[0m\u001b[0m\n\u001b[0m",
            "\u001b[0;31mAssertionError\u001b[0m: ejemplo 01 incorrecto"
          ]
        }
      ]
    },
    {
      "cell_type": "markdown",
      "metadata": {
        "id": "_gyg6bfd08rF"
      },
      "source": [
        "<a id='p4'></a>\n",
        "\n",
        "## Problema 04\n",
        "\n",
        "La [conjetura de Goldbach](https://en.wikipedia.org/wiki/Goldbach%27s_conjecture) es uno de los problemas abiertos más antiguos en matemáticas. Concretamente, G.H. Hardy, en 1921, en su famoso discurso pronunciado en la Sociedad Matemática de Copenhague, comentó que probablemente la conjetura de Goldbach no es solo uno de los problemas no resueltos más difíciles de la teoría de números, sino de todas las matemáticas. Su enunciado es el siguiente:\n",
        "\n",
        "$$\\textrm{Todo número par mayor que 2 puede escribirse como suma de dos números primos - Christian Goldbach (1742)}$$\n",
        "\n",
        "Implemente una función llamada `goldbach` cuyo input sea un número natural positivo $N$ y como output devuelva la suma de dos primos ($N1$ y $N2$) tal que: $N1+N2=N$. \n",
        "\n",
        " * **Ejemplo**: goldbash(4) = (2,2), goldbash(6) = (3,3) , goldbash(8) = (3,5)"
      ]
    },
    {
      "cell_type": "markdown",
      "metadata": {
        "id": "InA8lITR08rF"
      },
      "source": [
        "### Definir función"
      ]
    },
    {
      "cell_type": "code",
      "metadata": {
        "id": "nlyfNbv108rF"
      },
      "source": [
        "def goldbash(n:int)\n",
        "    for i in range(1,n):\n",
        "      if n%i"
      ],
      "execution_count": null,
      "outputs": []
    },
    {
      "cell_type": "markdown",
      "metadata": {
        "id": "2sHrt9I308rG"
      },
      "source": [
        "### Verificar ejemplos"
      ]
    },
    {
      "cell_type": "code",
      "metadata": {
        "id": "32SSAIpF08rG"
      },
      "source": [
        "# ejemplo 01\n",
        "assert  goldbash(4) == (2,2), \"ejemplo 01 incorrecto\""
      ],
      "execution_count": null,
      "outputs": []
    },
    {
      "cell_type": "code",
      "metadata": {
        "id": "rHFekdJo08rG"
      },
      "source": [
        "# ejemplo 02\n",
        "assert goldbash(6) == (3,3), \"ejemplo 02 incorrecto\""
      ],
      "execution_count": null,
      "outputs": []
    },
    {
      "cell_type": "code",
      "metadata": {
        "id": "7XGPLOav08rG"
      },
      "source": [
        "# ejemplo 03\n",
        "assert goldbash(8) == (3,5), \"ejemplo 03 incorrecto\""
      ],
      "execution_count": null,
      "outputs": []
    }
  ]
}