{
  "nbformat": 4,
  "nbformat_minor": 5,
  "metadata": {
    "kernelspec": {
      "display_name": "Python 3",
      "language": "python",
      "name": "python3"
    },
    "language_info": {
      "codemirror_mode": {
        "name": "ipython",
        "version": 3
      },
      "file_extension": ".py",
      "mimetype": "text/x-python",
      "name": "python",
      "nbconvert_exporter": "python",
      "pygments_lexer": "ipython3",
      "version": "3.8.8"
    },
    "colab": {
      "name": "lab_04 (1).ipynb",
      "provenance": [],
      "collapsed_sections": []
    }
  },
  "cells": [
    {
      "cell_type": "markdown",
      "metadata": {
        "id": "81b61a89"
      },
      "source": [
        "# MAT281 - Laboratorio N°04\n",
        "\n",
        "<a id='p1'></a>\n",
        "\n",
        "## Problema 01\n",
        "\n",
        "En la carpeta data se encuentra el archivo `nba.db`, el cual muestra informacion básica de algunos jugadores de la NBA.\n",
        "\n",
        "<img src=\"https://encrypted-tbn0.gstatic.com/images?q=tbn:ANd9GcQHCVR_4gPOmYYGglSV0rT1WlJtgRGnIw6Z6G68PTY1r_Qunv-6C3BDIa3jnStoNvdgcEE&usqp=CAU\" align=\"center\"/>\n",
        "\n"
      ],
      "id": "81b61a89"
    },
    {
      "cell_type": "code",
      "metadata": {
        "id": "92a8422a"
      },
      "source": [
        "from sqlalchemy import create_engine\n",
        "import pandas as pd\n",
        "import os  \n",
        "\n",
        "# Crear conector\n",
        "conn = create_engine(os.path.join('sqlite:///', 'nba.db'))\n"
      ],
      "id": "92a8422a",
      "execution_count": 2,
      "outputs": []
    },
    {
      "cell_type": "code",
      "metadata": {
        "id": "365a4032"
      },
      "source": [
        "# funcion de consultas\n",
        "def consulta(query,conn):\n",
        "    return pd.read_sql_query(query, con=conn)"
      ],
      "id": "365a4032",
      "execution_count": 3,
      "outputs": []
    },
    {
      "cell_type": "code",
      "metadata": {
        "colab": {
          "base_uri": "https://localhost:8080/",
          "height": 424
        },
        "id": "72713ae7",
        "outputId": "02282f22-d461-453e-e89b-eb001411fee4"
      },
      "source": [
        "# ejemplo\n",
        "query = \"\"\"\n",
        "SELECT * FROM player\n",
        "\"\"\"\n",
        "consulta(query,conn)"
      ],
      "id": "72713ae7",
      "execution_count": 4,
      "outputs": [
        {
          "output_type": "execute_result",
          "data": {
            "text/html": [
              "<div>\n",
              "<style scoped>\n",
              "    .dataframe tbody tr th:only-of-type {\n",
              "        vertical-align: middle;\n",
              "    }\n",
              "\n",
              "    .dataframe tbody tr th {\n",
              "        vertical-align: top;\n",
              "    }\n",
              "\n",
              "    .dataframe thead th {\n",
              "        text-align: right;\n",
              "    }\n",
              "</style>\n",
              "<table border=\"1\" class=\"dataframe\">\n",
              "  <thead>\n",
              "    <tr style=\"text-align: right;\">\n",
              "      <th></th>\n",
              "      <th>name</th>\n",
              "      <th>year_start</th>\n",
              "      <th>year_end</th>\n",
              "      <th>position</th>\n",
              "      <th>height</th>\n",
              "      <th>weight</th>\n",
              "      <th>birth_date</th>\n",
              "      <th>college</th>\n",
              "    </tr>\n",
              "  </thead>\n",
              "  <tbody>\n",
              "    <tr>\n",
              "      <th>0</th>\n",
              "      <td>Alaa Abdelnaby</td>\n",
              "      <td>1991</td>\n",
              "      <td>1995</td>\n",
              "      <td>F-C</td>\n",
              "      <td>6-10</td>\n",
              "      <td>240.0</td>\n",
              "      <td>June 24, 1968</td>\n",
              "      <td>Duke University</td>\n",
              "    </tr>\n",
              "    <tr>\n",
              "      <th>1</th>\n",
              "      <td>Zaid Abdul-Aziz</td>\n",
              "      <td>1969</td>\n",
              "      <td>1978</td>\n",
              "      <td>C-F</td>\n",
              "      <td>6-9</td>\n",
              "      <td>235.0</td>\n",
              "      <td>April 7, 1946</td>\n",
              "      <td>Iowa State University</td>\n",
              "    </tr>\n",
              "    <tr>\n",
              "      <th>2</th>\n",
              "      <td>Kareem Abdul-Jabbar</td>\n",
              "      <td>1970</td>\n",
              "      <td>1989</td>\n",
              "      <td>C</td>\n",
              "      <td>7-2</td>\n",
              "      <td>225.0</td>\n",
              "      <td>April 16, 1947</td>\n",
              "      <td>University of California, Los Angeles</td>\n",
              "    </tr>\n",
              "    <tr>\n",
              "      <th>3</th>\n",
              "      <td>Mahmoud Abdul-Rauf</td>\n",
              "      <td>1991</td>\n",
              "      <td>2001</td>\n",
              "      <td>G</td>\n",
              "      <td>6-1</td>\n",
              "      <td>162.0</td>\n",
              "      <td>March 9, 1969</td>\n",
              "      <td>Louisiana State University</td>\n",
              "    </tr>\n",
              "    <tr>\n",
              "      <th>4</th>\n",
              "      <td>Tariq Abdul-Wahad</td>\n",
              "      <td>1998</td>\n",
              "      <td>2003</td>\n",
              "      <td>F</td>\n",
              "      <td>6-6</td>\n",
              "      <td>223.0</td>\n",
              "      <td>November 3, 1974</td>\n",
              "      <td>San Jose State University</td>\n",
              "    </tr>\n",
              "    <tr>\n",
              "      <th>...</th>\n",
              "      <td>...</td>\n",
              "      <td>...</td>\n",
              "      <td>...</td>\n",
              "      <td>...</td>\n",
              "      <td>...</td>\n",
              "      <td>...</td>\n",
              "      <td>...</td>\n",
              "      <td>...</td>\n",
              "    </tr>\n",
              "    <tr>\n",
              "      <th>4545</th>\n",
              "      <td>Ante Zizic</td>\n",
              "      <td>2018</td>\n",
              "      <td>2018</td>\n",
              "      <td>F-C</td>\n",
              "      <td>6-11</td>\n",
              "      <td>250.0</td>\n",
              "      <td>January 4, 1997</td>\n",
              "      <td>None</td>\n",
              "    </tr>\n",
              "    <tr>\n",
              "      <th>4546</th>\n",
              "      <td>Jim Zoet</td>\n",
              "      <td>1983</td>\n",
              "      <td>1983</td>\n",
              "      <td>C</td>\n",
              "      <td>7-1</td>\n",
              "      <td>240.0</td>\n",
              "      <td>December 20, 1953</td>\n",
              "      <td>Kent State University</td>\n",
              "    </tr>\n",
              "    <tr>\n",
              "      <th>4547</th>\n",
              "      <td>Bill Zopf</td>\n",
              "      <td>1971</td>\n",
              "      <td>1971</td>\n",
              "      <td>G</td>\n",
              "      <td>6-1</td>\n",
              "      <td>170.0</td>\n",
              "      <td>June 7, 1948</td>\n",
              "      <td>Duquesne University</td>\n",
              "    </tr>\n",
              "    <tr>\n",
              "      <th>4548</th>\n",
              "      <td>Ivica Zubac</td>\n",
              "      <td>2017</td>\n",
              "      <td>2018</td>\n",
              "      <td>C</td>\n",
              "      <td>7-1</td>\n",
              "      <td>265.0</td>\n",
              "      <td>March 18, 1997</td>\n",
              "      <td>None</td>\n",
              "    </tr>\n",
              "    <tr>\n",
              "      <th>4549</th>\n",
              "      <td>Matt Zunic</td>\n",
              "      <td>1949</td>\n",
              "      <td>1949</td>\n",
              "      <td>G-F</td>\n",
              "      <td>6-3</td>\n",
              "      <td>195.0</td>\n",
              "      <td>December 19, 1919</td>\n",
              "      <td>George Washington University</td>\n",
              "    </tr>\n",
              "  </tbody>\n",
              "</table>\n",
              "<p>4550 rows × 8 columns</p>\n",
              "</div>"
            ],
            "text/plain": [
              "                     name  ...                                college\n",
              "0          Alaa Abdelnaby  ...                        Duke University\n",
              "1         Zaid Abdul-Aziz  ...                  Iowa State University\n",
              "2     Kareem Abdul-Jabbar  ...  University of California, Los Angeles\n",
              "3      Mahmoud Abdul-Rauf  ...             Louisiana State University\n",
              "4       Tariq Abdul-Wahad  ...              San Jose State University\n",
              "...                   ...  ...                                    ...\n",
              "4545           Ante Zizic  ...                                   None\n",
              "4546             Jim Zoet  ...                  Kent State University\n",
              "4547            Bill Zopf  ...                    Duquesne University\n",
              "4548          Ivica Zubac  ...                                   None\n",
              "4549           Matt Zunic  ...           George Washington University\n",
              "\n",
              "[4550 rows x 8 columns]"
            ]
          },
          "metadata": {},
          "execution_count": 4
        }
      ]
    },
    {
      "cell_type": "markdown",
      "metadata": {
        "id": "38de6a78"
      },
      "source": [
        "El objetivo es tratar de obtener la mayor información posible de este conjunto de datos mediante código **SQL**. Para cumplir con este objetivo debe resolver las siguientes problemáticas:"
      ],
      "id": "38de6a78"
    },
    {
      "cell_type": "markdown",
      "metadata": {
        "id": "812cf6a8"
      },
      "source": [
        "1. Mostrar las primeras 5 filas"
      ],
      "id": "812cf6a8"
    },
    {
      "cell_type": "code",
      "metadata": {
        "colab": {
          "base_uri": "https://localhost:8080/",
          "height": 206
        },
        "id": "c8b3cd26",
        "outputId": "49d2dd36-693d-494b-d3c5-1bfc5158e72b"
      },
      "source": [
        "# operador LIMIT\n",
        "query = \"\"\"\n",
        "SELECT * FROM player LIMIT 5;\n",
        "\"\"\"\n",
        "consulta(query,conn)"
      ],
      "id": "c8b3cd26",
      "execution_count": 9,
      "outputs": [
        {
          "output_type": "execute_result",
          "data": {
            "text/html": [
              "<div>\n",
              "<style scoped>\n",
              "    .dataframe tbody tr th:only-of-type {\n",
              "        vertical-align: middle;\n",
              "    }\n",
              "\n",
              "    .dataframe tbody tr th {\n",
              "        vertical-align: top;\n",
              "    }\n",
              "\n",
              "    .dataframe thead th {\n",
              "        text-align: right;\n",
              "    }\n",
              "</style>\n",
              "<table border=\"1\" class=\"dataframe\">\n",
              "  <thead>\n",
              "    <tr style=\"text-align: right;\">\n",
              "      <th></th>\n",
              "      <th>name</th>\n",
              "      <th>year_start</th>\n",
              "      <th>year_end</th>\n",
              "      <th>position</th>\n",
              "      <th>height</th>\n",
              "      <th>weight</th>\n",
              "      <th>birth_date</th>\n",
              "      <th>college</th>\n",
              "    </tr>\n",
              "  </thead>\n",
              "  <tbody>\n",
              "    <tr>\n",
              "      <th>0</th>\n",
              "      <td>Alaa Abdelnaby</td>\n",
              "      <td>1991</td>\n",
              "      <td>1995</td>\n",
              "      <td>F-C</td>\n",
              "      <td>6-10</td>\n",
              "      <td>240.0</td>\n",
              "      <td>June 24, 1968</td>\n",
              "      <td>Duke University</td>\n",
              "    </tr>\n",
              "    <tr>\n",
              "      <th>1</th>\n",
              "      <td>Zaid Abdul-Aziz</td>\n",
              "      <td>1969</td>\n",
              "      <td>1978</td>\n",
              "      <td>C-F</td>\n",
              "      <td>6-9</td>\n",
              "      <td>235.0</td>\n",
              "      <td>April 7, 1946</td>\n",
              "      <td>Iowa State University</td>\n",
              "    </tr>\n",
              "    <tr>\n",
              "      <th>2</th>\n",
              "      <td>Kareem Abdul-Jabbar</td>\n",
              "      <td>1970</td>\n",
              "      <td>1989</td>\n",
              "      <td>C</td>\n",
              "      <td>7-2</td>\n",
              "      <td>225.0</td>\n",
              "      <td>April 16, 1947</td>\n",
              "      <td>University of California, Los Angeles</td>\n",
              "    </tr>\n",
              "    <tr>\n",
              "      <th>3</th>\n",
              "      <td>Mahmoud Abdul-Rauf</td>\n",
              "      <td>1991</td>\n",
              "      <td>2001</td>\n",
              "      <td>G</td>\n",
              "      <td>6-1</td>\n",
              "      <td>162.0</td>\n",
              "      <td>March 9, 1969</td>\n",
              "      <td>Louisiana State University</td>\n",
              "    </tr>\n",
              "    <tr>\n",
              "      <th>4</th>\n",
              "      <td>Tariq Abdul-Wahad</td>\n",
              "      <td>1998</td>\n",
              "      <td>2003</td>\n",
              "      <td>F</td>\n",
              "      <td>6-6</td>\n",
              "      <td>223.0</td>\n",
              "      <td>November 3, 1974</td>\n",
              "      <td>San Jose State University</td>\n",
              "    </tr>\n",
              "  </tbody>\n",
              "</table>\n",
              "</div>"
            ],
            "text/plain": [
              "                  name  ...                                college\n",
              "0       Alaa Abdelnaby  ...                        Duke University\n",
              "1      Zaid Abdul-Aziz  ...                  Iowa State University\n",
              "2  Kareem Abdul-Jabbar  ...  University of California, Los Angeles\n",
              "3   Mahmoud Abdul-Rauf  ...             Louisiana State University\n",
              "4    Tariq Abdul-Wahad  ...              San Jose State University\n",
              "\n",
              "[5 rows x 8 columns]"
            ]
          },
          "metadata": {},
          "execution_count": 9
        }
      ]
    },
    {
      "cell_type": "markdown",
      "metadata": {
        "id": "ae01f307"
      },
      "source": [
        "2. Seleccionar los valores únicos de la columna `position`."
      ],
      "id": "ae01f307"
    },
    {
      "cell_type": "code",
      "metadata": {
        "colab": {
          "base_uri": "https://localhost:8080/",
          "height": 300
        },
        "id": "49d4489f",
        "outputId": "78fc3824-6c94-4114-c756-8db0922e4dc2"
      },
      "source": [
        "#operador \n",
        "query = \"\"\"\n",
        "SELECT DISTINCT position FROM player;\n",
        "\"\"\"\n",
        "consulta(query,conn)"
      ],
      "id": "49d4489f",
      "execution_count": 11,
      "outputs": [
        {
          "output_type": "execute_result",
          "data": {
            "text/html": [
              "<div>\n",
              "<style scoped>\n",
              "    .dataframe tbody tr th:only-of-type {\n",
              "        vertical-align: middle;\n",
              "    }\n",
              "\n",
              "    .dataframe tbody tr th {\n",
              "        vertical-align: top;\n",
              "    }\n",
              "\n",
              "    .dataframe thead th {\n",
              "        text-align: right;\n",
              "    }\n",
              "</style>\n",
              "<table border=\"1\" class=\"dataframe\">\n",
              "  <thead>\n",
              "    <tr style=\"text-align: right;\">\n",
              "      <th></th>\n",
              "      <th>position</th>\n",
              "    </tr>\n",
              "  </thead>\n",
              "  <tbody>\n",
              "    <tr>\n",
              "      <th>0</th>\n",
              "      <td>F-C</td>\n",
              "    </tr>\n",
              "    <tr>\n",
              "      <th>1</th>\n",
              "      <td>C-F</td>\n",
              "    </tr>\n",
              "    <tr>\n",
              "      <th>2</th>\n",
              "      <td>C</td>\n",
              "    </tr>\n",
              "    <tr>\n",
              "      <th>3</th>\n",
              "      <td>G</td>\n",
              "    </tr>\n",
              "    <tr>\n",
              "      <th>4</th>\n",
              "      <td>F</td>\n",
              "    </tr>\n",
              "    <tr>\n",
              "      <th>5</th>\n",
              "      <td>G-F</td>\n",
              "    </tr>\n",
              "    <tr>\n",
              "      <th>6</th>\n",
              "      <td>F-G</td>\n",
              "    </tr>\n",
              "    <tr>\n",
              "      <th>7</th>\n",
              "      <td>None</td>\n",
              "    </tr>\n",
              "  </tbody>\n",
              "</table>\n",
              "</div>"
            ],
            "text/plain": [
              "  position\n",
              "0      F-C\n",
              "1      C-F\n",
              "2        C\n",
              "3        G\n",
              "4        F\n",
              "5      G-F\n",
              "6      F-G\n",
              "7     None"
            ]
          },
          "metadata": {},
          "execution_count": 11
        }
      ]
    },
    {
      "cell_type": "markdown",
      "metadata": {
        "id": "a02be4e8"
      },
      "source": [
        "3. Seleccionar y cambiar el nombre de la columna `name` por `nombre` "
      ],
      "id": "a02be4e8"
    },
    {
      "cell_type": "code",
      "metadata": {
        "colab": {
          "base_uri": "https://localhost:8080/",
          "height": 424
        },
        "id": "Q7TW0hCSOYC_",
        "outputId": "e2cd8e8c-7690-4666-a1d8-3b6d4aac44a2"
      },
      "source": [
        "#operador \n",
        "query = \"\"\"\n",
        "SELECT name AS nombre FROM player;\n",
        "\"\"\"\n",
        "consulta(query,conn)"
      ],
      "id": "Q7TW0hCSOYC_",
      "execution_count": 15,
      "outputs": [
        {
          "output_type": "execute_result",
          "data": {
            "text/html": [
              "<div>\n",
              "<style scoped>\n",
              "    .dataframe tbody tr th:only-of-type {\n",
              "        vertical-align: middle;\n",
              "    }\n",
              "\n",
              "    .dataframe tbody tr th {\n",
              "        vertical-align: top;\n",
              "    }\n",
              "\n",
              "    .dataframe thead th {\n",
              "        text-align: right;\n",
              "    }\n",
              "</style>\n",
              "<table border=\"1\" class=\"dataframe\">\n",
              "  <thead>\n",
              "    <tr style=\"text-align: right;\">\n",
              "      <th></th>\n",
              "      <th>nombre</th>\n",
              "    </tr>\n",
              "  </thead>\n",
              "  <tbody>\n",
              "    <tr>\n",
              "      <th>0</th>\n",
              "      <td>Alaa Abdelnaby</td>\n",
              "    </tr>\n",
              "    <tr>\n",
              "      <th>1</th>\n",
              "      <td>Zaid Abdul-Aziz</td>\n",
              "    </tr>\n",
              "    <tr>\n",
              "      <th>2</th>\n",
              "      <td>Kareem Abdul-Jabbar</td>\n",
              "    </tr>\n",
              "    <tr>\n",
              "      <th>3</th>\n",
              "      <td>Mahmoud Abdul-Rauf</td>\n",
              "    </tr>\n",
              "    <tr>\n",
              "      <th>4</th>\n",
              "      <td>Tariq Abdul-Wahad</td>\n",
              "    </tr>\n",
              "    <tr>\n",
              "      <th>...</th>\n",
              "      <td>...</td>\n",
              "    </tr>\n",
              "    <tr>\n",
              "      <th>4545</th>\n",
              "      <td>Ante Zizic</td>\n",
              "    </tr>\n",
              "    <tr>\n",
              "      <th>4546</th>\n",
              "      <td>Jim Zoet</td>\n",
              "    </tr>\n",
              "    <tr>\n",
              "      <th>4547</th>\n",
              "      <td>Bill Zopf</td>\n",
              "    </tr>\n",
              "    <tr>\n",
              "      <th>4548</th>\n",
              "      <td>Ivica Zubac</td>\n",
              "    </tr>\n",
              "    <tr>\n",
              "      <th>4549</th>\n",
              "      <td>Matt Zunic</td>\n",
              "    </tr>\n",
              "  </tbody>\n",
              "</table>\n",
              "<p>4550 rows × 1 columns</p>\n",
              "</div>"
            ],
            "text/plain": [
              "                   nombre\n",
              "0          Alaa Abdelnaby\n",
              "1         Zaid Abdul-Aziz\n",
              "2     Kareem Abdul-Jabbar\n",
              "3      Mahmoud Abdul-Rauf\n",
              "4       Tariq Abdul-Wahad\n",
              "...                   ...\n",
              "4545           Ante Zizic\n",
              "4546             Jim Zoet\n",
              "4547            Bill Zopf\n",
              "4548          Ivica Zubac\n",
              "4549           Matt Zunic\n",
              "\n",
              "[4550 rows x 1 columns]"
            ]
          },
          "metadata": {},
          "execution_count": 15
        }
      ]
    },
    {
      "cell_type": "markdown",
      "metadata": {
        "id": "3ca0bc6c"
      },
      "source": [
        "4. Determinar el tiempo (en años) de cada jugador en su posición"
      ],
      "id": "3ca0bc6c"
    },
    {
      "cell_type": "code",
      "metadata": {
        "colab": {
          "base_uri": "https://localhost:8080/",
          "height": 424
        },
        "id": "aff47b1d",
        "outputId": "3458e1ad-ed15-4bef-8a88-edad41b5a266"
      },
      "source": [
        "#operador \n",
        "query = \"\"\"\n",
        "SELECT year_start, year_end,\n",
        "year_end - year_start as tiempo\n",
        "FROM player;\n",
        "\"\"\"\n",
        "consulta(query,conn)"
      ],
      "id": "aff47b1d",
      "execution_count": 18,
      "outputs": [
        {
          "output_type": "execute_result",
          "data": {
            "text/html": [
              "<div>\n",
              "<style scoped>\n",
              "    .dataframe tbody tr th:only-of-type {\n",
              "        vertical-align: middle;\n",
              "    }\n",
              "\n",
              "    .dataframe tbody tr th {\n",
              "        vertical-align: top;\n",
              "    }\n",
              "\n",
              "    .dataframe thead th {\n",
              "        text-align: right;\n",
              "    }\n",
              "</style>\n",
              "<table border=\"1\" class=\"dataframe\">\n",
              "  <thead>\n",
              "    <tr style=\"text-align: right;\">\n",
              "      <th></th>\n",
              "      <th>year_start</th>\n",
              "      <th>year_end</th>\n",
              "      <th>tiempo</th>\n",
              "    </tr>\n",
              "  </thead>\n",
              "  <tbody>\n",
              "    <tr>\n",
              "      <th>0</th>\n",
              "      <td>1991</td>\n",
              "      <td>1995</td>\n",
              "      <td>4</td>\n",
              "    </tr>\n",
              "    <tr>\n",
              "      <th>1</th>\n",
              "      <td>1969</td>\n",
              "      <td>1978</td>\n",
              "      <td>9</td>\n",
              "    </tr>\n",
              "    <tr>\n",
              "      <th>2</th>\n",
              "      <td>1970</td>\n",
              "      <td>1989</td>\n",
              "      <td>19</td>\n",
              "    </tr>\n",
              "    <tr>\n",
              "      <th>3</th>\n",
              "      <td>1991</td>\n",
              "      <td>2001</td>\n",
              "      <td>10</td>\n",
              "    </tr>\n",
              "    <tr>\n",
              "      <th>4</th>\n",
              "      <td>1998</td>\n",
              "      <td>2003</td>\n",
              "      <td>5</td>\n",
              "    </tr>\n",
              "    <tr>\n",
              "      <th>...</th>\n",
              "      <td>...</td>\n",
              "      <td>...</td>\n",
              "      <td>...</td>\n",
              "    </tr>\n",
              "    <tr>\n",
              "      <th>4545</th>\n",
              "      <td>2018</td>\n",
              "      <td>2018</td>\n",
              "      <td>0</td>\n",
              "    </tr>\n",
              "    <tr>\n",
              "      <th>4546</th>\n",
              "      <td>1983</td>\n",
              "      <td>1983</td>\n",
              "      <td>0</td>\n",
              "    </tr>\n",
              "    <tr>\n",
              "      <th>4547</th>\n",
              "      <td>1971</td>\n",
              "      <td>1971</td>\n",
              "      <td>0</td>\n",
              "    </tr>\n",
              "    <tr>\n",
              "      <th>4548</th>\n",
              "      <td>2017</td>\n",
              "      <td>2018</td>\n",
              "      <td>1</td>\n",
              "    </tr>\n",
              "    <tr>\n",
              "      <th>4549</th>\n",
              "      <td>1949</td>\n",
              "      <td>1949</td>\n",
              "      <td>0</td>\n",
              "    </tr>\n",
              "  </tbody>\n",
              "</table>\n",
              "<p>4550 rows × 3 columns</p>\n",
              "</div>"
            ],
            "text/plain": [
              "      year_start  year_end  tiempo\n",
              "0           1991      1995       4\n",
              "1           1969      1978       9\n",
              "2           1970      1989      19\n",
              "3           1991      2001      10\n",
              "4           1998      2003       5\n",
              "...          ...       ...     ...\n",
              "4545        2018      2018       0\n",
              "4546        1983      1983       0\n",
              "4547        1971      1971       0\n",
              "4548        2017      2018       1\n",
              "4549        1949      1949       0\n",
              "\n",
              "[4550 rows x 3 columns]"
            ]
          },
          "metadata": {},
          "execution_count": 18
        }
      ]
    },
    {
      "cell_type": "markdown",
      "metadata": {
        "id": "5b17f546"
      },
      "source": [
        "5. Encontrar el valor máximo de la columna `weight` por cada  valor de la columna `position`"
      ],
      "id": "5b17f546"
    },
    {
      "cell_type": "code",
      "metadata": {
        "colab": {
          "base_uri": "https://localhost:8080/",
          "height": 81
        },
        "id": "2ec77cc4",
        "outputId": "0ffc4eb5-a402-4c9d-9f76-33836161efee"
      },
      "source": [
        "#operador \n",
        "query = \"\"\"\n",
        "SELECT position, MAX(weight),\n",
        "MAX(weight) as max\n",
        "FROM player;\n",
        "\"\"\"\n",
        "consulta(query,conn)"
      ],
      "id": "2ec77cc4",
      "execution_count": 42,
      "outputs": [
        {
          "output_type": "execute_result",
          "data": {
            "text/html": [
              "<div>\n",
              "<style scoped>\n",
              "    .dataframe tbody tr th:only-of-type {\n",
              "        vertical-align: middle;\n",
              "    }\n",
              "\n",
              "    .dataframe tbody tr th {\n",
              "        vertical-align: top;\n",
              "    }\n",
              "\n",
              "    .dataframe thead th {\n",
              "        text-align: right;\n",
              "    }\n",
              "</style>\n",
              "<table border=\"1\" class=\"dataframe\">\n",
              "  <thead>\n",
              "    <tr style=\"text-align: right;\">\n",
              "      <th></th>\n",
              "      <th>position</th>\n",
              "      <th>MAX(weight)</th>\n",
              "      <th>max</th>\n",
              "    </tr>\n",
              "  </thead>\n",
              "  <tbody>\n",
              "    <tr>\n",
              "      <th>0</th>\n",
              "      <td>C</td>\n",
              "      <td>360.0</td>\n",
              "      <td>360.0</td>\n",
              "    </tr>\n",
              "  </tbody>\n",
              "</table>\n",
              "</div>"
            ],
            "text/plain": [
              "  position  MAX(weight)    max\n",
              "0        C        360.0  360.0"
            ]
          },
          "metadata": {},
          "execution_count": 42
        }
      ]
    },
    {
      "cell_type": "markdown",
      "metadata": {
        "id": "a03635b9"
      },
      "source": [
        "6. Encontrar el total de jugadores por cada valor de la columna `year_start`"
      ],
      "id": "a03635b9"
    },
    {
      "cell_type": "code",
      "metadata": {
        "id": "bcc9b171"
      },
      "source": [
        ""
      ],
      "id": "bcc9b171",
      "execution_count": null,
      "outputs": []
    },
    {
      "cell_type": "markdown",
      "metadata": {
        "id": "44466154"
      },
      "source": [
        "7. Encontrar el valor mínimo, máximo y promedio de la columna `weight` por cada valor de la columnas `college`"
      ],
      "id": "44466154"
    },
    {
      "cell_type": "code",
      "metadata": {
        "id": "babedc9a"
      },
      "source": [
        ""
      ],
      "id": "babedc9a",
      "execution_count": null,
      "outputs": []
    },
    {
      "cell_type": "markdown",
      "metadata": {
        "id": "c57cb703"
      },
      "source": [
        "8. Filtrar por aquellos jugadores que cumplan con :\n",
        "* Para la columna `year_start` tienen un valor mayor 1990 y menor a 2000\n",
        "* Para la columna `position` tienen un valor de `C`,`C-F` o `F-C`\n",
        "* Para la columna `college` tienen un valor distinto de `Duke University`\n"
      ],
      "id": "c57cb703"
    },
    {
      "cell_type": "code",
      "metadata": {
        "id": "5bc633c7"
      },
      "source": [
        ""
      ],
      "id": "5bc633c7",
      "execution_count": null,
      "outputs": []
    },
    {
      "cell_type": "markdown",
      "metadata": {
        "id": "d0893605"
      },
      "source": [
        "9. Crear dos conjuntos de datos y juntarlos en una misma *query*. Las condiciones de cada uno de los cojunto de datos son:\n",
        "\n",
        "* **df1**:\n",
        "    * Para la columna `year_start` tienen un valor mayor 1990 y menor a 2000\n",
        "    * Para la columna `position` tienen un valor de `C`,`C-F` o `F-C`\n",
        "   \n",
        "* **df2**:\n",
        "    * Para la columna `year_end` tienen un valor menor a 2000\n",
        "    * Para la columna `position` tienen un valor de `G`o `F` "
      ],
      "id": "d0893605"
    }
  ]
}