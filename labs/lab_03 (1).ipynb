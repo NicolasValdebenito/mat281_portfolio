{
  "nbformat": 4,
  "nbformat_minor": 5,
  "metadata": {
    "kernelspec": {
      "display_name": "Python 3",
      "language": "python",
      "name": "python3"
    },
    "language_info": {
      "codemirror_mode": {
        "name": "ipython",
        "version": 3
      },
      "file_extension": ".py",
      "mimetype": "text/x-python",
      "name": "python",
      "nbconvert_exporter": "python",
      "pygments_lexer": "ipython3",
      "version": "3.8.8"
    },
    "colab": {
      "name": "lab_03.ipynb",
      "provenance": [],
      "collapsed_sections": []
    }
  },
  "cells": [
    {
      "cell_type": "markdown",
      "metadata": {
        "id": "d4fc2e9f"
      },
      "source": [
        "# MAT281 - Laboratorio N°03\n",
        "\n"
      ],
      "id": "d4fc2e9f"
    },
    {
      "cell_type": "markdown",
      "metadata": {
        "id": "72ba5e95"
      },
      "source": [
        "## Problema 01\n",
        "\n",
        "\n",
        "<img src=\"https://imagenes.universia.net/gc/net/images/practicas-empleo/p/pr/pro/profesiones-con-el-avance-de-la-tecnologia.jpg\" width=\"480\" height=\"360\" align=\"center\"/>\n",
        "\n",
        "\n",
        "EL conjunto de datos se denomina `ocupation.csv`, el cual contiene información de distintos usuarios (edad ,sexo, profesión, etc.).\n",
        "\n",
        "Lo primero es cargar el conjunto de datos y ver las primeras filas que lo componen:"
      ],
      "id": "72ba5e95"
    },
    {
      "cell_type": "code",
      "metadata": {
        "id": "6861bfc6"
      },
      "source": [
        "import pandas as pd\n",
        "import os"
      ],
      "id": "6861bfc6",
      "execution_count": 103,
      "outputs": []
    },
    {
      "cell_type": "code",
      "metadata": {
        "colab": {
          "base_uri": "https://localhost:8080/",
          "height": 204
        },
        "id": "ee27b72e",
        "outputId": "8bc18924-f63e-4e70-ec61-4ccea7981f6a"
      },
      "source": [
        "# cargar datos\n",
        "df = pd.read_csv(os.path.join(\"ocupation.csv\"), sep=\"|\")\n",
        "df.head()"
      ],
      "id": "ee27b72e",
      "execution_count": 104,
      "outputs": [
        {
          "output_type": "execute_result",
          "data": {
            "text/html": [
              "<div>\n",
              "<style scoped>\n",
              "    .dataframe tbody tr th:only-of-type {\n",
              "        vertical-align: middle;\n",
              "    }\n",
              "\n",
              "    .dataframe tbody tr th {\n",
              "        vertical-align: top;\n",
              "    }\n",
              "\n",
              "    .dataframe thead th {\n",
              "        text-align: right;\n",
              "    }\n",
              "</style>\n",
              "<table border=\"1\" class=\"dataframe\">\n",
              "  <thead>\n",
              "    <tr style=\"text-align: right;\">\n",
              "      <th></th>\n",
              "      <th>user_id</th>\n",
              "      <th>age</th>\n",
              "      <th>gender</th>\n",
              "      <th>occupation</th>\n",
              "      <th>zip_code</th>\n",
              "    </tr>\n",
              "  </thead>\n",
              "  <tbody>\n",
              "    <tr>\n",
              "      <th>0</th>\n",
              "      <td>1</td>\n",
              "      <td>24</td>\n",
              "      <td>M</td>\n",
              "      <td>technician</td>\n",
              "      <td>85711</td>\n",
              "    </tr>\n",
              "    <tr>\n",
              "      <th>1</th>\n",
              "      <td>2</td>\n",
              "      <td>53</td>\n",
              "      <td>F</td>\n",
              "      <td>other</td>\n",
              "      <td>94043</td>\n",
              "    </tr>\n",
              "    <tr>\n",
              "      <th>2</th>\n",
              "      <td>3</td>\n",
              "      <td>23</td>\n",
              "      <td>M</td>\n",
              "      <td>writer</td>\n",
              "      <td>32067</td>\n",
              "    </tr>\n",
              "    <tr>\n",
              "      <th>3</th>\n",
              "      <td>4</td>\n",
              "      <td>24</td>\n",
              "      <td>M</td>\n",
              "      <td>technician</td>\n",
              "      <td>43537</td>\n",
              "    </tr>\n",
              "    <tr>\n",
              "      <th>4</th>\n",
              "      <td>5</td>\n",
              "      <td>33</td>\n",
              "      <td>F</td>\n",
              "      <td>other</td>\n",
              "      <td>15213</td>\n",
              "    </tr>\n",
              "  </tbody>\n",
              "</table>\n",
              "</div>"
            ],
            "text/plain": [
              "   user_id  age gender  occupation zip_code\n",
              "0        1   24      M  technician    85711\n",
              "1        2   53      F       other    94043\n",
              "2        3   23      M      writer    32067\n",
              "3        4   24      M  technician    43537\n",
              "4        5   33      F       other    15213"
            ]
          },
          "metadata": {},
          "execution_count": 104
        }
      ]
    },
    {
      "cell_type": "markdown",
      "metadata": {
        "id": "7e1144e7"
      },
      "source": [
        "El objetivo es tratar de obtener la mayor información posible de este conjunto de datos. Para cumplir este objetivo debe resolver las siguientes problemáticas:\n",
        "\n",
        "1.- ¿Cuál es el número de observaciones en el conjunto de datos?"
      ],
      "id": "7e1144e7"
    },
    {
      "cell_type": "code",
      "metadata": {
        "colab": {
          "base_uri": "https://localhost:8080/"
        },
        "id": "DbrPmAUgkjlS",
        "outputId": "40469f1d-3133-4f15-b3c7-00c12f314371"
      },
      "source": [
        "#El conjunto de datos tiene 943 observaciones\n",
        "\n",
        "obs=df.shape[0]\n",
        "print(obs)"
      ],
      "id": "DbrPmAUgkjlS",
      "execution_count": 105,
      "outputs": [
        {
          "output_type": "stream",
          "name": "stdout",
          "text": [
            "943\n"
          ]
        }
      ]
    },
    {
      "cell_type": "markdown",
      "metadata": {
        "id": "b33e30bd"
      },
      "source": [
        "2.- ¿Cuál es el número de columnas en el conjunto de datos?"
      ],
      "id": "b33e30bd"
    },
    {
      "cell_type": "code",
      "metadata": {
        "colab": {
          "base_uri": "https://localhost:8080/"
        },
        "id": "vA87pmyXl6j3",
        "outputId": "31281204-a5e0-48d9-87c6-965f76931834"
      },
      "source": [
        "#El conjunto tiene un total de 5 columnas\n",
        "\n",
        "columnas=df.shape[1]\n",
        "print(columnas)"
      ],
      "id": "vA87pmyXl6j3",
      "execution_count": 106,
      "outputs": [
        {
          "output_type": "stream",
          "name": "stdout",
          "text": [
            "5\n"
          ]
        }
      ]
    },
    {
      "cell_type": "markdown",
      "metadata": {
        "id": "71de8000"
      },
      "source": [
        "3.- Imprime el nombre de todas las columnas"
      ],
      "id": "71de8000"
    },
    {
      "cell_type": "code",
      "metadata": {
        "colab": {
          "base_uri": "https://localhost:8080/"
        },
        "id": "xLM29b9Ykjrf",
        "outputId": "03c5fc39-86a3-43be-fde0-bd42f2334b23"
      },
      "source": [
        "df.columns"
      ],
      "id": "xLM29b9Ykjrf",
      "execution_count": 107,
      "outputs": [
        {
          "output_type": "execute_result",
          "data": {
            "text/plain": [
              "Index(['user_id', 'age', 'gender', 'occupation', 'zip_code'], dtype='object')"
            ]
          },
          "metadata": {},
          "execution_count": 107
        }
      ]
    },
    {
      "cell_type": "markdown",
      "metadata": {
        "id": "0dac10cc"
      },
      "source": [
        "4.- Imprima el índice del dataframe"
      ],
      "id": "0dac10cc"
    },
    {
      "cell_type": "code",
      "metadata": {
        "colab": {
          "base_uri": "https://localhost:8080/"
        },
        "id": "d7997572",
        "outputId": "93e3e4fe-29ef-4996-af80-7b73f5cc9b21"
      },
      "source": [
        "df.index"
      ],
      "id": "d7997572",
      "execution_count": 108,
      "outputs": [
        {
          "output_type": "execute_result",
          "data": {
            "text/plain": [
              "RangeIndex(start=0, stop=943, step=1)"
            ]
          },
          "metadata": {},
          "execution_count": 108
        }
      ]
    },
    {
      "cell_type": "markdown",
      "metadata": {
        "id": "7baa797d"
      },
      "source": [
        "5.- ¿Cuál es el tipo de datos de cada columna?"
      ],
      "id": "7baa797d"
    },
    {
      "cell_type": "code",
      "metadata": {
        "colab": {
          "base_uri": "https://localhost:8080/"
        },
        "id": "892cefc8",
        "outputId": "f55a193f-d6fd-4997-9987-e81e24eb6baf"
      },
      "source": [
        "#Se tienen dos atributos numéricos (enteros) y 3 atributos de clasificación.\n",
        "#Notar que el zipcode es un número pero no está en formato entero\n",
        "\n",
        "df.dtypes"
      ],
      "id": "892cefc8",
      "execution_count": 109,
      "outputs": [
        {
          "output_type": "execute_result",
          "data": {
            "text/plain": [
              "user_id        int64\n",
              "age            int64\n",
              "gender        object\n",
              "occupation    object\n",
              "zip_code      object\n",
              "dtype: object"
            ]
          },
          "metadata": {},
          "execution_count": 109
        }
      ]
    },
    {
      "cell_type": "markdown",
      "metadata": {
        "id": "e9f71305"
      },
      "source": [
        "6.- Describir el conjunto de datos (**hint**: .describe())"
      ],
      "id": "e9f71305"
    },
    {
      "cell_type": "code",
      "metadata": {
        "colab": {
          "base_uri": "https://localhost:8080/",
          "height": 390
        },
        "id": "a4e29113",
        "outputId": "a975c086-fbda-4db5-92da-af954e34c912"
      },
      "source": [
        "#Se muestra un resumen de los datos\n",
        "\n",
        "df.describe(include='all')"
      ],
      "id": "a4e29113",
      "execution_count": 110,
      "outputs": [
        {
          "output_type": "execute_result",
          "data": {
            "text/html": [
              "<div>\n",
              "<style scoped>\n",
              "    .dataframe tbody tr th:only-of-type {\n",
              "        vertical-align: middle;\n",
              "    }\n",
              "\n",
              "    .dataframe tbody tr th {\n",
              "        vertical-align: top;\n",
              "    }\n",
              "\n",
              "    .dataframe thead th {\n",
              "        text-align: right;\n",
              "    }\n",
              "</style>\n",
              "<table border=\"1\" class=\"dataframe\">\n",
              "  <thead>\n",
              "    <tr style=\"text-align: right;\">\n",
              "      <th></th>\n",
              "      <th>user_id</th>\n",
              "      <th>age</th>\n",
              "      <th>gender</th>\n",
              "      <th>occupation</th>\n",
              "      <th>zip_code</th>\n",
              "    </tr>\n",
              "  </thead>\n",
              "  <tbody>\n",
              "    <tr>\n",
              "      <th>count</th>\n",
              "      <td>943.000000</td>\n",
              "      <td>943.000000</td>\n",
              "      <td>943</td>\n",
              "      <td>943</td>\n",
              "      <td>943</td>\n",
              "    </tr>\n",
              "    <tr>\n",
              "      <th>unique</th>\n",
              "      <td>NaN</td>\n",
              "      <td>NaN</td>\n",
              "      <td>2</td>\n",
              "      <td>21</td>\n",
              "      <td>795</td>\n",
              "    </tr>\n",
              "    <tr>\n",
              "      <th>top</th>\n",
              "      <td>NaN</td>\n",
              "      <td>NaN</td>\n",
              "      <td>M</td>\n",
              "      <td>student</td>\n",
              "      <td>55414</td>\n",
              "    </tr>\n",
              "    <tr>\n",
              "      <th>freq</th>\n",
              "      <td>NaN</td>\n",
              "      <td>NaN</td>\n",
              "      <td>670</td>\n",
              "      <td>196</td>\n",
              "      <td>9</td>\n",
              "    </tr>\n",
              "    <tr>\n",
              "      <th>mean</th>\n",
              "      <td>472.000000</td>\n",
              "      <td>34.051962</td>\n",
              "      <td>NaN</td>\n",
              "      <td>NaN</td>\n",
              "      <td>NaN</td>\n",
              "    </tr>\n",
              "    <tr>\n",
              "      <th>std</th>\n",
              "      <td>272.364951</td>\n",
              "      <td>12.192740</td>\n",
              "      <td>NaN</td>\n",
              "      <td>NaN</td>\n",
              "      <td>NaN</td>\n",
              "    </tr>\n",
              "    <tr>\n",
              "      <th>min</th>\n",
              "      <td>1.000000</td>\n",
              "      <td>7.000000</td>\n",
              "      <td>NaN</td>\n",
              "      <td>NaN</td>\n",
              "      <td>NaN</td>\n",
              "    </tr>\n",
              "    <tr>\n",
              "      <th>25%</th>\n",
              "      <td>236.500000</td>\n",
              "      <td>25.000000</td>\n",
              "      <td>NaN</td>\n",
              "      <td>NaN</td>\n",
              "      <td>NaN</td>\n",
              "    </tr>\n",
              "    <tr>\n",
              "      <th>50%</th>\n",
              "      <td>472.000000</td>\n",
              "      <td>31.000000</td>\n",
              "      <td>NaN</td>\n",
              "      <td>NaN</td>\n",
              "      <td>NaN</td>\n",
              "    </tr>\n",
              "    <tr>\n",
              "      <th>75%</th>\n",
              "      <td>707.500000</td>\n",
              "      <td>43.000000</td>\n",
              "      <td>NaN</td>\n",
              "      <td>NaN</td>\n",
              "      <td>NaN</td>\n",
              "    </tr>\n",
              "    <tr>\n",
              "      <th>max</th>\n",
              "      <td>943.000000</td>\n",
              "      <td>73.000000</td>\n",
              "      <td>NaN</td>\n",
              "      <td>NaN</td>\n",
              "      <td>NaN</td>\n",
              "    </tr>\n",
              "  </tbody>\n",
              "</table>\n",
              "</div>"
            ],
            "text/plain": [
              "           user_id         age gender occupation zip_code\n",
              "count   943.000000  943.000000    943        943      943\n",
              "unique         NaN         NaN      2         21      795\n",
              "top            NaN         NaN      M    student    55414\n",
              "freq           NaN         NaN    670        196        9\n",
              "mean    472.000000   34.051962    NaN        NaN      NaN\n",
              "std     272.364951   12.192740    NaN        NaN      NaN\n",
              "min       1.000000    7.000000    NaN        NaN      NaN\n",
              "25%     236.500000   25.000000    NaN        NaN      NaN\n",
              "50%     472.000000   31.000000    NaN        NaN      NaN\n",
              "75%     707.500000   43.000000    NaN        NaN      NaN\n",
              "max     943.000000   73.000000    NaN        NaN      NaN"
            ]
          },
          "metadata": {},
          "execution_count": 110
        }
      ]
    },
    {
      "cell_type": "markdown",
      "metadata": {
        "id": "a9003c7f"
      },
      "source": [
        "7.- Imprimir solo la columna de **occupation**."
      ],
      "id": "a9003c7f"
    },
    {
      "cell_type": "code",
      "metadata": {
        "colab": {
          "base_uri": "https://localhost:8080/"
        },
        "id": "abd2542c",
        "outputId": "53235dec-02b0-404f-ac6f-f4e96d644c15"
      },
      "source": [
        "df['occupation']"
      ],
      "id": "abd2542c",
      "execution_count": 111,
      "outputs": [
        {
          "output_type": "execute_result",
          "data": {
            "text/plain": [
              "0         technician\n",
              "1              other\n",
              "2             writer\n",
              "3         technician\n",
              "4              other\n",
              "           ...      \n",
              "938          student\n",
              "939    administrator\n",
              "940          student\n",
              "941        librarian\n",
              "942          student\n",
              "Name: occupation, Length: 943, dtype: object"
            ]
          },
          "metadata": {},
          "execution_count": 111
        }
      ]
    },
    {
      "cell_type": "markdown",
      "metadata": {
        "id": "c3278dec"
      },
      "source": [
        "8.- ¿Cuántas ocupaciones diferentes hay en este conjunto de datos?"
      ],
      "id": "c3278dec"
    },
    {
      "cell_type": "code",
      "metadata": {
        "colab": {
          "base_uri": "https://localhost:8080/"
        },
        "id": "db29768c",
        "outputId": "0d04e93d-eda2-47d9-b589-5eff02d85100"
      },
      "source": [
        "#Existen 21 ocupaciones distintas en el conjunto de datos \n",
        "\n",
        "df['occupation'].unique()"
      ],
      "id": "db29768c",
      "execution_count": 112,
      "outputs": [
        {
          "output_type": "execute_result",
          "data": {
            "text/plain": [
              "array(['technician', 'other', 'writer', 'executive', 'administrator',\n",
              "       'student', 'lawyer', 'educator', 'scientist', 'entertainment',\n",
              "       'programmer', 'librarian', 'homemaker', 'artist', 'engineer',\n",
              "       'marketing', 'none', 'healthcare', 'retired', 'salesman', 'doctor'],\n",
              "      dtype=object)"
            ]
          },
          "metadata": {},
          "execution_count": 112
        }
      ]
    },
    {
      "cell_type": "code",
      "metadata": {
        "colab": {
          "base_uri": "https://localhost:8080/"
        },
        "id": "-gMji_M5z7Jv",
        "outputId": "0d6bcc50-c6b1-403c-da9c-5fd60619bb8b"
      },
      "source": [
        "len(df['occupation'].unique())"
      ],
      "id": "-gMji_M5z7Jv",
      "execution_count": 113,
      "outputs": [
        {
          "output_type": "execute_result",
          "data": {
            "text/plain": [
              "21"
            ]
          },
          "metadata": {},
          "execution_count": 113
        }
      ]
    },
    {
      "cell_type": "markdown",
      "metadata": {
        "id": "7052543a"
      },
      "source": [
        "9.- ¿Cuál es la ocupación más frecuente?"
      ],
      "id": "7052543a"
    },
    {
      "cell_type": "code",
      "metadata": {
        "colab": {
          "base_uri": "https://localhost:8080/"
        },
        "id": "fcfc18c6",
        "outputId": "283ba3ab-32b2-41cd-b42e-e582d23a2e32"
      },
      "source": [
        "#La ocupación más frecuente es 'student'\n",
        "\n",
        "df['occupation'].value_counts()"
      ],
      "id": "fcfc18c6",
      "execution_count": 114,
      "outputs": [
        {
          "output_type": "execute_result",
          "data": {
            "text/plain": [
              "student          196\n",
              "other            105\n",
              "educator          95\n",
              "administrator     79\n",
              "engineer          67\n",
              "programmer        66\n",
              "librarian         51\n",
              "writer            45\n",
              "executive         32\n",
              "scientist         31\n",
              "artist            28\n",
              "technician        27\n",
              "marketing         26\n",
              "entertainment     18\n",
              "healthcare        16\n",
              "retired           14\n",
              "lawyer            12\n",
              "salesman          12\n",
              "none               9\n",
              "homemaker          7\n",
              "doctor             7\n",
              "Name: occupation, dtype: int64"
            ]
          },
          "metadata": {},
          "execution_count": 114
        }
      ]
    },
    {
      "cell_type": "markdown",
      "metadata": {
        "id": "5fa6ba98"
      },
      "source": [
        "10.- ¿Cuál es la edad media de los usuarios?"
      ],
      "id": "5fa6ba98"
    },
    {
      "cell_type": "code",
      "metadata": {
        "colab": {
          "base_uri": "https://localhost:8080/"
        },
        "id": "94afe777",
        "outputId": "a99814bf-6ac7-4513-b91a-1fd471daa5d3"
      },
      "source": [
        "#La edad media de los usuarios es aproximadamente igual a 34 años\n",
        "\n",
        "df['age'].mean()"
      ],
      "id": "94afe777",
      "execution_count": 115,
      "outputs": [
        {
          "output_type": "execute_result",
          "data": {
            "text/plain": [
              "34.05196182396607"
            ]
          },
          "metadata": {},
          "execution_count": 115
        }
      ]
    },
    {
      "cell_type": "markdown",
      "metadata": {
        "id": "4bab2806"
      },
      "source": [
        "11.- ¿Cuál es la edad con menos ocurrencia?"
      ],
      "id": "4bab2806"
    },
    {
      "cell_type": "code",
      "metadata": {
        "colab": {
          "base_uri": "https://localhost:8080/"
        },
        "id": "a7zm0rnZ1chQ",
        "outputId": "8ad5d09c-65d8-4dd2-a6bd-e6b31805d918"
      },
      "source": [
        "df['age'].value_counts()"
      ],
      "id": "a7zm0rnZ1chQ",
      "execution_count": 117,
      "outputs": [
        {
          "output_type": "execute_result",
          "data": {
            "text/plain": [
              "30    39\n",
              "25    38\n",
              "22    37\n",
              "28    36\n",
              "27    35\n",
              "      ..\n",
              "11     1\n",
              "10     1\n",
              "73     1\n",
              "66     1\n",
              "7      1\n",
              "Name: age, Length: 61, dtype: int64"
            ]
          },
          "metadata": {},
          "execution_count": 117
        }
      ]
    },
    {
      "cell_type": "code",
      "metadata": {
        "colab": {
          "base_uri": "https://localhost:8080/"
        },
        "id": "9c845930",
        "outputId": "14b51687-811d-4f54-bffa-e1dc7581d6c9"
      },
      "source": [
        "#Las edades con menos ocurrencia son 7, 66, 73, 10 y 11 años\n",
        "\n",
        "df['age'].value_counts().tail(10)"
      ],
      "id": "9c845930",
      "execution_count": 116,
      "outputs": [
        {
          "output_type": "execute_result",
          "data": {
            "text/plain": [
              "58    3\n",
              "64    2\n",
              "68    2\n",
              "69    2\n",
              "62    2\n",
              "11    1\n",
              "10    1\n",
              "73    1\n",
              "66    1\n",
              "7     1\n",
              "Name: age, dtype: int64"
            ]
          },
          "metadata": {},
          "execution_count": 116
        }
      ]
    },
    {
      "cell_type": "markdown",
      "metadata": {
        "id": "d2d05edd"
      },
      "source": [
        "12.- Encontrar la edad promedio según la variable **occupation**"
      ],
      "id": "d2d05edd"
    },
    {
      "cell_type": "code",
      "metadata": {
        "colab": {
          "base_uri": "https://localhost:8080/",
          "height": 700
        },
        "id": "de914806",
        "outputId": "28720e03-d0f8-41ff-b72b-ceeb1fda099b"
      },
      "source": [
        "df.groupby('occupation', as_index=False).age.mean()"
      ],
      "id": "de914806",
      "execution_count": 120,
      "outputs": [
        {
          "output_type": "execute_result",
          "data": {
            "text/html": [
              "<div>\n",
              "<style scoped>\n",
              "    .dataframe tbody tr th:only-of-type {\n",
              "        vertical-align: middle;\n",
              "    }\n",
              "\n",
              "    .dataframe tbody tr th {\n",
              "        vertical-align: top;\n",
              "    }\n",
              "\n",
              "    .dataframe thead th {\n",
              "        text-align: right;\n",
              "    }\n",
              "</style>\n",
              "<table border=\"1\" class=\"dataframe\">\n",
              "  <thead>\n",
              "    <tr style=\"text-align: right;\">\n",
              "      <th></th>\n",
              "      <th>occupation</th>\n",
              "      <th>age</th>\n",
              "    </tr>\n",
              "  </thead>\n",
              "  <tbody>\n",
              "    <tr>\n",
              "      <th>0</th>\n",
              "      <td>administrator</td>\n",
              "      <td>38.746835</td>\n",
              "    </tr>\n",
              "    <tr>\n",
              "      <th>1</th>\n",
              "      <td>artist</td>\n",
              "      <td>31.392857</td>\n",
              "    </tr>\n",
              "    <tr>\n",
              "      <th>2</th>\n",
              "      <td>doctor</td>\n",
              "      <td>43.571429</td>\n",
              "    </tr>\n",
              "    <tr>\n",
              "      <th>3</th>\n",
              "      <td>educator</td>\n",
              "      <td>42.010526</td>\n",
              "    </tr>\n",
              "    <tr>\n",
              "      <th>4</th>\n",
              "      <td>engineer</td>\n",
              "      <td>36.388060</td>\n",
              "    </tr>\n",
              "    <tr>\n",
              "      <th>5</th>\n",
              "      <td>entertainment</td>\n",
              "      <td>29.222222</td>\n",
              "    </tr>\n",
              "    <tr>\n",
              "      <th>6</th>\n",
              "      <td>executive</td>\n",
              "      <td>38.718750</td>\n",
              "    </tr>\n",
              "    <tr>\n",
              "      <th>7</th>\n",
              "      <td>healthcare</td>\n",
              "      <td>41.562500</td>\n",
              "    </tr>\n",
              "    <tr>\n",
              "      <th>8</th>\n",
              "      <td>homemaker</td>\n",
              "      <td>32.571429</td>\n",
              "    </tr>\n",
              "    <tr>\n",
              "      <th>9</th>\n",
              "      <td>lawyer</td>\n",
              "      <td>36.750000</td>\n",
              "    </tr>\n",
              "    <tr>\n",
              "      <th>10</th>\n",
              "      <td>librarian</td>\n",
              "      <td>40.000000</td>\n",
              "    </tr>\n",
              "    <tr>\n",
              "      <th>11</th>\n",
              "      <td>marketing</td>\n",
              "      <td>37.615385</td>\n",
              "    </tr>\n",
              "    <tr>\n",
              "      <th>12</th>\n",
              "      <td>none</td>\n",
              "      <td>26.555556</td>\n",
              "    </tr>\n",
              "    <tr>\n",
              "      <th>13</th>\n",
              "      <td>other</td>\n",
              "      <td>34.523810</td>\n",
              "    </tr>\n",
              "    <tr>\n",
              "      <th>14</th>\n",
              "      <td>programmer</td>\n",
              "      <td>33.121212</td>\n",
              "    </tr>\n",
              "    <tr>\n",
              "      <th>15</th>\n",
              "      <td>retired</td>\n",
              "      <td>63.071429</td>\n",
              "    </tr>\n",
              "    <tr>\n",
              "      <th>16</th>\n",
              "      <td>salesman</td>\n",
              "      <td>35.666667</td>\n",
              "    </tr>\n",
              "    <tr>\n",
              "      <th>17</th>\n",
              "      <td>scientist</td>\n",
              "      <td>35.548387</td>\n",
              "    </tr>\n",
              "    <tr>\n",
              "      <th>18</th>\n",
              "      <td>student</td>\n",
              "      <td>22.081633</td>\n",
              "    </tr>\n",
              "    <tr>\n",
              "      <th>19</th>\n",
              "      <td>technician</td>\n",
              "      <td>33.148148</td>\n",
              "    </tr>\n",
              "    <tr>\n",
              "      <th>20</th>\n",
              "      <td>writer</td>\n",
              "      <td>36.311111</td>\n",
              "    </tr>\n",
              "  </tbody>\n",
              "</table>\n",
              "</div>"
            ],
            "text/plain": [
              "       occupation        age\n",
              "0   administrator  38.746835\n",
              "1          artist  31.392857\n",
              "2          doctor  43.571429\n",
              "3        educator  42.010526\n",
              "4        engineer  36.388060\n",
              "5   entertainment  29.222222\n",
              "6       executive  38.718750\n",
              "7      healthcare  41.562500\n",
              "8       homemaker  32.571429\n",
              "9          lawyer  36.750000\n",
              "10      librarian  40.000000\n",
              "11      marketing  37.615385\n",
              "12           none  26.555556\n",
              "13          other  34.523810\n",
              "14     programmer  33.121212\n",
              "15        retired  63.071429\n",
              "16       salesman  35.666667\n",
              "17      scientist  35.548387\n",
              "18        student  22.081633\n",
              "19     technician  33.148148\n",
              "20         writer  36.311111"
            ]
          },
          "metadata": {},
          "execution_count": 120
        }
      ]
    },
    {
      "cell_type": "markdown",
      "metadata": {
        "id": "7d50fe6f"
      },
      "source": [
        "## Problema 02\n",
        "\n",
        "\n",
        "<img src=\"https://image.freepik.com/vector-gratis/varios-automoviles-dibujos-animados_23-2147613095.jpg\" width=\"360\" height=\"360\" align=\"center\"/>\n",
        "\n",
        "\n",
        "EL conjunto de datos se denomina `Automobile_data.csv`, el cual contiene información tal como: compañia, precio, kilometraje, etc.\n",
        "\n",
        "Lo primero es cargar el conjunto de datos y ver las primeras filas que lo componen:"
      ],
      "id": "7d50fe6f"
    },
    {
      "cell_type": "code",
      "metadata": {
        "colab": {
          "base_uri": "https://localhost:8080/",
          "height": 235
        },
        "id": "fd719886",
        "outputId": "03d47cd4-8cbb-49c1-cf31-a3afc6f7edf3"
      },
      "source": [
        "# cargar datos\n",
        "df = pd.read_csv(os.path.join(\"Automobile_data.csv\")).set_index('index')\n",
        "df.head()"
      ],
      "id": "fd719886",
      "execution_count": 124,
      "outputs": [
        {
          "output_type": "execute_result",
          "data": {
            "text/html": [
              "<div>\n",
              "<style scoped>\n",
              "    .dataframe tbody tr th:only-of-type {\n",
              "        vertical-align: middle;\n",
              "    }\n",
              "\n",
              "    .dataframe tbody tr th {\n",
              "        vertical-align: top;\n",
              "    }\n",
              "\n",
              "    .dataframe thead th {\n",
              "        text-align: right;\n",
              "    }\n",
              "</style>\n",
              "<table border=\"1\" class=\"dataframe\">\n",
              "  <thead>\n",
              "    <tr style=\"text-align: right;\">\n",
              "      <th></th>\n",
              "      <th>company</th>\n",
              "      <th>body-style</th>\n",
              "      <th>wheel-base</th>\n",
              "      <th>length</th>\n",
              "      <th>engine-type</th>\n",
              "      <th>num-of-cylinders</th>\n",
              "      <th>horsepower</th>\n",
              "      <th>average-mileage</th>\n",
              "      <th>price</th>\n",
              "    </tr>\n",
              "    <tr>\n",
              "      <th>index</th>\n",
              "      <th></th>\n",
              "      <th></th>\n",
              "      <th></th>\n",
              "      <th></th>\n",
              "      <th></th>\n",
              "      <th></th>\n",
              "      <th></th>\n",
              "      <th></th>\n",
              "      <th></th>\n",
              "    </tr>\n",
              "  </thead>\n",
              "  <tbody>\n",
              "    <tr>\n",
              "      <th>0</th>\n",
              "      <td>alfa-romero</td>\n",
              "      <td>convertible</td>\n",
              "      <td>88.6</td>\n",
              "      <td>168.8</td>\n",
              "      <td>dohc</td>\n",
              "      <td>four</td>\n",
              "      <td>111</td>\n",
              "      <td>21</td>\n",
              "      <td>13495.0</td>\n",
              "    </tr>\n",
              "    <tr>\n",
              "      <th>1</th>\n",
              "      <td>alfa-romero</td>\n",
              "      <td>convertible</td>\n",
              "      <td>88.6</td>\n",
              "      <td>168.8</td>\n",
              "      <td>dohc</td>\n",
              "      <td>four</td>\n",
              "      <td>111</td>\n",
              "      <td>21</td>\n",
              "      <td>16500.0</td>\n",
              "    </tr>\n",
              "    <tr>\n",
              "      <th>2</th>\n",
              "      <td>alfa-romero</td>\n",
              "      <td>hatchback</td>\n",
              "      <td>94.5</td>\n",
              "      <td>171.2</td>\n",
              "      <td>ohcv</td>\n",
              "      <td>six</td>\n",
              "      <td>154</td>\n",
              "      <td>19</td>\n",
              "      <td>16500.0</td>\n",
              "    </tr>\n",
              "    <tr>\n",
              "      <th>3</th>\n",
              "      <td>audi</td>\n",
              "      <td>sedan</td>\n",
              "      <td>99.8</td>\n",
              "      <td>176.6</td>\n",
              "      <td>ohc</td>\n",
              "      <td>four</td>\n",
              "      <td>102</td>\n",
              "      <td>24</td>\n",
              "      <td>13950.0</td>\n",
              "    </tr>\n",
              "    <tr>\n",
              "      <th>4</th>\n",
              "      <td>audi</td>\n",
              "      <td>sedan</td>\n",
              "      <td>99.4</td>\n",
              "      <td>176.6</td>\n",
              "      <td>ohc</td>\n",
              "      <td>five</td>\n",
              "      <td>115</td>\n",
              "      <td>18</td>\n",
              "      <td>17450.0</td>\n",
              "    </tr>\n",
              "  </tbody>\n",
              "</table>\n",
              "</div>"
            ],
            "text/plain": [
              "           company   body-style  ...  average-mileage    price\n",
              "index                            ...                          \n",
              "0      alfa-romero  convertible  ...               21  13495.0\n",
              "1      alfa-romero  convertible  ...               21  16500.0\n",
              "2      alfa-romero    hatchback  ...               19  16500.0\n",
              "3             audi        sedan  ...               24  13950.0\n",
              "4             audi        sedan  ...               18  17450.0\n",
              "\n",
              "[5 rows x 9 columns]"
            ]
          },
          "metadata": {},
          "execution_count": 124
        }
      ]
    },
    {
      "cell_type": "markdown",
      "metadata": {
        "id": "e77b26d4"
      },
      "source": [
        "El objetivo es tratar de obtener la mayor información posible de este conjunto de datos. Para cumplir este objetivo debe resolver las siguientes problemáticas:\n",
        "\n",
        "1. Elimine los valores nulos (Nan)"
      ],
      "id": "e77b26d4"
    },
    {
      "cell_type": "code",
      "metadata": {
        "colab": {
          "base_uri": "https://localhost:8080/"
        },
        "id": "f5e20e7a",
        "outputId": "ba106e23-5855-4c98-f852-1912feba68f3"
      },
      "source": [
        "df.dropna"
      ],
      "id": "f5e20e7a",
      "execution_count": 125,
      "outputs": [
        {
          "output_type": "execute_result",
          "data": {
            "text/plain": [
              "<bound method DataFrame.dropna of            company   body-style  ...  average-mileage    price\n",
              "index                            ...                          \n",
              "0      alfa-romero  convertible  ...               21  13495.0\n",
              "1      alfa-romero  convertible  ...               21  16500.0\n",
              "2      alfa-romero    hatchback  ...               19  16500.0\n",
              "3             audi        sedan  ...               24  13950.0\n",
              "4             audi        sedan  ...               18  17450.0\n",
              "...            ...          ...  ...              ...      ...\n",
              "81      volkswagen        sedan  ...               27   7975.0\n",
              "82      volkswagen        sedan  ...               37   7995.0\n",
              "86      volkswagen        sedan  ...               26   9995.0\n",
              "87           volvo        sedan  ...               23  12940.0\n",
              "88           volvo        wagon  ...               23  13415.0\n",
              "\n",
              "[61 rows x 9 columns]>"
            ]
          },
          "metadata": {},
          "execution_count": 125
        }
      ]
    },
    {
      "cell_type": "code",
      "metadata": {
        "colab": {
          "base_uri": "https://localhost:8080/"
        },
        "id": "ib3KaK_UwoPc",
        "outputId": "150e0a1d-4ac2-4df8-f2e6-f3d81d77ce3b"
      },
      "source": [
        "df.isnull().sum()"
      ],
      "id": "ib3KaK_UwoPc",
      "execution_count": 126,
      "outputs": [
        {
          "output_type": "execute_result",
          "data": {
            "text/plain": [
              "company             0\n",
              "body-style          0\n",
              "wheel-base          0\n",
              "length              0\n",
              "engine-type         0\n",
              "num-of-cylinders    0\n",
              "horsepower          0\n",
              "average-mileage     0\n",
              "price               3\n",
              "dtype: int64"
            ]
          },
          "metadata": {},
          "execution_count": 126
        }
      ]
    },
    {
      "cell_type": "markdown",
      "metadata": {
        "id": "4487b6fe"
      },
      "source": [
        "2. Encuentra el nombre de la compañía de automóviles más cara"
      ],
      "id": "4487b6fe"
    },
    {
      "cell_type": "code",
      "metadata": {
        "colab": {
          "base_uri": "https://localhost:8080/",
          "height": 545
        },
        "id": "FNCt5YRVyqan",
        "outputId": "7a4fe529-58f4-4cbb-87ca-2a985b8076e6"
      },
      "source": [
        "#La compañía de automóviles más cara es porsche,\n",
        "#ya que su promedio de precios es el mayor\n",
        "\n",
        "df.groupby('company', as_index=False).price.mean()"
      ],
      "id": "FNCt5YRVyqan",
      "execution_count": 127,
      "outputs": [
        {
          "output_type": "execute_result",
          "data": {
            "text/html": [
              "<div>\n",
              "<style scoped>\n",
              "    .dataframe tbody tr th:only-of-type {\n",
              "        vertical-align: middle;\n",
              "    }\n",
              "\n",
              "    .dataframe tbody tr th {\n",
              "        vertical-align: top;\n",
              "    }\n",
              "\n",
              "    .dataframe thead th {\n",
              "        text-align: right;\n",
              "    }\n",
              "</style>\n",
              "<table border=\"1\" class=\"dataframe\">\n",
              "  <thead>\n",
              "    <tr style=\"text-align: right;\">\n",
              "      <th></th>\n",
              "      <th>company</th>\n",
              "      <th>price</th>\n",
              "    </tr>\n",
              "  </thead>\n",
              "  <tbody>\n",
              "    <tr>\n",
              "      <th>0</th>\n",
              "      <td>alfa-romero</td>\n",
              "      <td>15498.333333</td>\n",
              "    </tr>\n",
              "    <tr>\n",
              "      <th>1</th>\n",
              "      <td>audi</td>\n",
              "      <td>16392.500000</td>\n",
              "    </tr>\n",
              "    <tr>\n",
              "      <th>2</th>\n",
              "      <td>bmw</td>\n",
              "      <td>27213.333333</td>\n",
              "    </tr>\n",
              "    <tr>\n",
              "      <th>3</th>\n",
              "      <td>chevrolet</td>\n",
              "      <td>6007.000000</td>\n",
              "    </tr>\n",
              "    <tr>\n",
              "      <th>4</th>\n",
              "      <td>dodge</td>\n",
              "      <td>6303.000000</td>\n",
              "    </tr>\n",
              "    <tr>\n",
              "      <th>5</th>\n",
              "      <td>honda</td>\n",
              "      <td>10195.000000</td>\n",
              "    </tr>\n",
              "    <tr>\n",
              "      <th>6</th>\n",
              "      <td>isuzu</td>\n",
              "      <td>6785.000000</td>\n",
              "    </tr>\n",
              "    <tr>\n",
              "      <th>7</th>\n",
              "      <td>jaguar</td>\n",
              "      <td>34600.000000</td>\n",
              "    </tr>\n",
              "    <tr>\n",
              "      <th>8</th>\n",
              "      <td>mazda</td>\n",
              "      <td>9654.800000</td>\n",
              "    </tr>\n",
              "    <tr>\n",
              "      <th>9</th>\n",
              "      <td>mercedes-benz</td>\n",
              "      <td>35040.000000</td>\n",
              "    </tr>\n",
              "    <tr>\n",
              "      <th>10</th>\n",
              "      <td>mitsubishi</td>\n",
              "      <td>6689.000000</td>\n",
              "    </tr>\n",
              "    <tr>\n",
              "      <th>11</th>\n",
              "      <td>nissan</td>\n",
              "      <td>8289.000000</td>\n",
              "    </tr>\n",
              "    <tr>\n",
              "      <th>12</th>\n",
              "      <td>porsche</td>\n",
              "      <td>35528.000000</td>\n",
              "    </tr>\n",
              "    <tr>\n",
              "      <th>13</th>\n",
              "      <td>toyota</td>\n",
              "      <td>8216.857143</td>\n",
              "    </tr>\n",
              "    <tr>\n",
              "      <th>14</th>\n",
              "      <td>volkswagen</td>\n",
              "      <td>8435.000000</td>\n",
              "    </tr>\n",
              "    <tr>\n",
              "      <th>15</th>\n",
              "      <td>volvo</td>\n",
              "      <td>13177.500000</td>\n",
              "    </tr>\n",
              "  </tbody>\n",
              "</table>\n",
              "</div>"
            ],
            "text/plain": [
              "          company         price\n",
              "0     alfa-romero  15498.333333\n",
              "1            audi  16392.500000\n",
              "2             bmw  27213.333333\n",
              "3       chevrolet   6007.000000\n",
              "4           dodge   6303.000000\n",
              "5           honda  10195.000000\n",
              "6           isuzu   6785.000000\n",
              "7          jaguar  34600.000000\n",
              "8           mazda   9654.800000\n",
              "9   mercedes-benz  35040.000000\n",
              "10     mitsubishi   6689.000000\n",
              "11         nissan   8289.000000\n",
              "12        porsche  35528.000000\n",
              "13         toyota   8216.857143\n",
              "14     volkswagen   8435.000000\n",
              "15          volvo  13177.500000"
            ]
          },
          "metadata": {},
          "execution_count": 127
        }
      ]
    },
    {
      "cell_type": "markdown",
      "metadata": {
        "id": "605db0c5"
      },
      "source": [
        "3. Imprimir todos los detalles de Toyota Cars"
      ],
      "id": "605db0c5"
    },
    {
      "cell_type": "code",
      "metadata": {
        "id": "e552fbd4"
      },
      "source": [
        ""
      ],
      "id": "e552fbd4",
      "execution_count": null,
      "outputs": []
    },
    {
      "cell_type": "markdown",
      "metadata": {
        "id": "7c32153a"
      },
      "source": [
        "4. Cuente el total de automóviles por compañía"
      ],
      "id": "7c32153a"
    },
    {
      "cell_type": "code",
      "metadata": {
        "colab": {
          "base_uri": "https://localhost:8080/"
        },
        "id": "2791978f",
        "outputId": "7a2b8a15-90a0-4944-a37f-3fe82e5f5101"
      },
      "source": [
        "df['company'].value_counts()"
      ],
      "id": "2791978f",
      "execution_count": 128,
      "outputs": [
        {
          "output_type": "execute_result",
          "data": {
            "text/plain": [
              "toyota           7\n",
              "bmw              6\n",
              "nissan           5\n",
              "mazda            5\n",
              "mitsubishi       4\n",
              "volkswagen       4\n",
              "mercedes-benz    4\n",
              "audi             4\n",
              "honda            3\n",
              "jaguar           3\n",
              "chevrolet        3\n",
              "isuzu            3\n",
              "porsche          3\n",
              "alfa-romero      3\n",
              "dodge            2\n",
              "volvo            2\n",
              "Name: company, dtype: int64"
            ]
          },
          "metadata": {},
          "execution_count": 128
        }
      ]
    },
    {
      "cell_type": "markdown",
      "metadata": {
        "id": "af88e032"
      },
      "source": [
        "5. Encuentra el coche con el precio más alto por compañía"
      ],
      "id": "af88e032"
    },
    {
      "cell_type": "code",
      "metadata": {
        "colab": {
          "base_uri": "https://localhost:8080/",
          "height": 545
        },
        "id": "ad71e911",
        "outputId": "c29ba69e-3bea-46dc-bd12-cecb0dada75d"
      },
      "source": [
        "#El coche con el precio más alto es mercedes-benz\n",
        "\n",
        "df.groupby('company', as_index=False).price.max()"
      ],
      "id": "ad71e911",
      "execution_count": 143,
      "outputs": [
        {
          "output_type": "execute_result",
          "data": {
            "text/html": [
              "<div>\n",
              "<style scoped>\n",
              "    .dataframe tbody tr th:only-of-type {\n",
              "        vertical-align: middle;\n",
              "    }\n",
              "\n",
              "    .dataframe tbody tr th {\n",
              "        vertical-align: top;\n",
              "    }\n",
              "\n",
              "    .dataframe thead th {\n",
              "        text-align: right;\n",
              "    }\n",
              "</style>\n",
              "<table border=\"1\" class=\"dataframe\">\n",
              "  <thead>\n",
              "    <tr style=\"text-align: right;\">\n",
              "      <th></th>\n",
              "      <th>company</th>\n",
              "      <th>price</th>\n",
              "    </tr>\n",
              "  </thead>\n",
              "  <tbody>\n",
              "    <tr>\n",
              "      <th>0</th>\n",
              "      <td>alfa-romero</td>\n",
              "      <td>16500.0</td>\n",
              "    </tr>\n",
              "    <tr>\n",
              "      <th>1</th>\n",
              "      <td>audi</td>\n",
              "      <td>18920.0</td>\n",
              "    </tr>\n",
              "    <tr>\n",
              "      <th>2</th>\n",
              "      <td>bmw</td>\n",
              "      <td>41315.0</td>\n",
              "    </tr>\n",
              "    <tr>\n",
              "      <th>3</th>\n",
              "      <td>chevrolet</td>\n",
              "      <td>6575.0</td>\n",
              "    </tr>\n",
              "    <tr>\n",
              "      <th>4</th>\n",
              "      <td>dodge</td>\n",
              "      <td>6377.0</td>\n",
              "    </tr>\n",
              "    <tr>\n",
              "      <th>5</th>\n",
              "      <td>honda</td>\n",
              "      <td>12945.0</td>\n",
              "    </tr>\n",
              "    <tr>\n",
              "      <th>6</th>\n",
              "      <td>isuzu</td>\n",
              "      <td>6785.0</td>\n",
              "    </tr>\n",
              "    <tr>\n",
              "      <th>7</th>\n",
              "      <td>jaguar</td>\n",
              "      <td>36000.0</td>\n",
              "    </tr>\n",
              "    <tr>\n",
              "      <th>8</th>\n",
              "      <td>mazda</td>\n",
              "      <td>18344.0</td>\n",
              "    </tr>\n",
              "    <tr>\n",
              "      <th>9</th>\n",
              "      <td>mercedes-benz</td>\n",
              "      <td>45400.0</td>\n",
              "    </tr>\n",
              "    <tr>\n",
              "      <th>10</th>\n",
              "      <td>mitsubishi</td>\n",
              "      <td>8189.0</td>\n",
              "    </tr>\n",
              "    <tr>\n",
              "      <th>11</th>\n",
              "      <td>nissan</td>\n",
              "      <td>13499.0</td>\n",
              "    </tr>\n",
              "    <tr>\n",
              "      <th>12</th>\n",
              "      <td>porsche</td>\n",
              "      <td>37028.0</td>\n",
              "    </tr>\n",
              "    <tr>\n",
              "      <th>13</th>\n",
              "      <td>toyota</td>\n",
              "      <td>15750.0</td>\n",
              "    </tr>\n",
              "    <tr>\n",
              "      <th>14</th>\n",
              "      <td>volkswagen</td>\n",
              "      <td>9995.0</td>\n",
              "    </tr>\n",
              "    <tr>\n",
              "      <th>15</th>\n",
              "      <td>volvo</td>\n",
              "      <td>13415.0</td>\n",
              "    </tr>\n",
              "  </tbody>\n",
              "</table>\n",
              "</div>"
            ],
            "text/plain": [
              "          company    price\n",
              "0     alfa-romero  16500.0\n",
              "1            audi  18920.0\n",
              "2             bmw  41315.0\n",
              "3       chevrolet   6575.0\n",
              "4           dodge   6377.0\n",
              "5           honda  12945.0\n",
              "6           isuzu   6785.0\n",
              "7          jaguar  36000.0\n",
              "8           mazda  18344.0\n",
              "9   mercedes-benz  45400.0\n",
              "10     mitsubishi   8189.0\n",
              "11         nissan  13499.0\n",
              "12        porsche  37028.0\n",
              "13         toyota  15750.0\n",
              "14     volkswagen   9995.0\n",
              "15          volvo  13415.0"
            ]
          },
          "metadata": {},
          "execution_count": 143
        }
      ]
    },
    {
      "cell_type": "markdown",
      "metadata": {
        "id": "bf59b61a"
      },
      "source": [
        "6. Encuentre el kilometraje promedio (**average-mileage**) de cada compañía automotriz"
      ],
      "id": "bf59b61a"
    },
    {
      "cell_type": "code",
      "metadata": {
        "colab": {
          "base_uri": "https://localhost:8080/",
          "height": 283
        },
        "id": "85bd7f5b",
        "outputId": "4db6d417-853d-45ab-deb2-97c2347a163b"
      },
      "source": [
        "df.groupby('company', as_index=False).average-mileage.mean()"
      ],
      "id": "85bd7f5b",
      "execution_count": 135,
      "outputs": [
        {
          "output_type": "error",
          "ename": "AttributeError",
          "evalue": "ignored",
          "traceback": [
            "\u001b[0;31m---------------------------------------------------------------------------\u001b[0m",
            "\u001b[0;31mAttributeError\u001b[0m                            Traceback (most recent call last)",
            "\u001b[0;32m<ipython-input-135-c331052d8259>\u001b[0m in \u001b[0;36m<module>\u001b[0;34m()\u001b[0m\n\u001b[0;32m----> 1\u001b[0;31m \u001b[0mdf\u001b[0m\u001b[0;34m.\u001b[0m\u001b[0mgroupby\u001b[0m\u001b[0;34m(\u001b[0m\u001b[0;34m'company'\u001b[0m\u001b[0;34m,\u001b[0m \u001b[0mas_index\u001b[0m\u001b[0;34m=\u001b[0m\u001b[0;32mFalse\u001b[0m\u001b[0;34m)\u001b[0m\u001b[0;34m.\u001b[0m\u001b[0maverage\u001b[0m\u001b[0;34m-\u001b[0m\u001b[0mmileage\u001b[0m\u001b[0;34m.\u001b[0m\u001b[0mmean\u001b[0m\u001b[0;34m(\u001b[0m\u001b[0;34m)\u001b[0m\u001b[0;34m\u001b[0m\u001b[0;34m\u001b[0m\u001b[0m\n\u001b[0m",
            "\u001b[0;32m/usr/local/lib/python3.7/dist-packages/pandas/core/groupby/groupby.py\u001b[0m in \u001b[0;36m__getattr__\u001b[0;34m(self, attr)\u001b[0m\n\u001b[1;32m    702\u001b[0m \u001b[0;34m\u001b[0m\u001b[0m\n\u001b[1;32m    703\u001b[0m         raise AttributeError(\n\u001b[0;32m--> 704\u001b[0;31m             \u001b[0;34mf\"'{type(self).__name__}' object has no attribute '{attr}'\"\u001b[0m\u001b[0;34m\u001b[0m\u001b[0;34m\u001b[0m\u001b[0m\n\u001b[0m\u001b[1;32m    705\u001b[0m         )\n\u001b[1;32m    706\u001b[0m \u001b[0;34m\u001b[0m\u001b[0m\n",
            "\u001b[0;31mAttributeError\u001b[0m: 'DataFrameGroupBy' object has no attribute 'average'"
          ]
        }
      ]
    },
    {
      "cell_type": "markdown",
      "metadata": {
        "id": "89652a00"
      },
      "source": [
        "7. Ordenar todos los autos por columna de precio (**price**)"
      ],
      "id": "89652a00"
    },
    {
      "cell_type": "markdown",
      "metadata": {
        "id": "0d5c3c01"
      },
      "source": [
        "## Problema 03\n",
        "\n",
        "\n",
        "Siguiendo la temática de los automóviles, resuelva los siguientes problemas:\n",
        "\n",
        "### a) Subproblema 01\n",
        "A partir de los siguientes diccionarios:"
      ],
      "id": "0d5c3c01"
    },
    {
      "cell_type": "code",
      "metadata": {
        "id": "9c06596b"
      },
      "source": [
        "GermanCars = {'Company': ['Ford', 'Mercedes', 'BMV', 'Audi'],\n",
        "              'Price': [23845, 171995, 135925 , 71400]}\n",
        "japaneseCars = {'Company': ['Toyota', 'Honda', 'Nissan', 'Mitsubishi '], \n",
        "                'Price': [29995, 23600, 61500 , 58900]}"
      ],
      "id": "9c06596b",
      "execution_count": 137,
      "outputs": []
    },
    {
      "cell_type": "markdown",
      "metadata": {
        "id": "e9307bf6"
      },
      "source": [
        "* Cree dos dataframes (**carsDf1** y **carsDf2**) según corresponda.\n",
        "* Concatene ambos dataframes (**carsDf**) y añada una llave [\"Germany\", \"Japan\"], según corresponda."
      ],
      "id": "e9307bf6"
    },
    {
      "cell_type": "code",
      "metadata": {
        "id": "7ffb27bd"
      },
      "source": [
        ""
      ],
      "id": "7ffb27bd",
      "execution_count": 138,
      "outputs": []
    },
    {
      "cell_type": "markdown",
      "metadata": {
        "id": "badb935a"
      },
      "source": [
        "### b) Subproblema 02\n",
        "\n",
        "A partir de los siguientes diccionarios:"
      ],
      "id": "badb935a"
    },
    {
      "cell_type": "code",
      "metadata": {
        "id": "dd379a19"
      },
      "source": [
        "Car_Price = {'Company': ['Toyota', 'Honda', 'BMV', 'Audi'], 'Price': [23845, 17995, 135925 , 71400]}\n",
        "car_Horsepower = {'Company': ['Toyota', 'Honda', 'BMV', 'Audi'], 'horsepower': [141, 80, 182 , 160]}"
      ],
      "id": "dd379a19",
      "execution_count": 140,
      "outputs": []
    },
    {
      "cell_type": "markdown",
      "metadata": {
        "id": "f984e298"
      },
      "source": [
        "* Cree dos dataframes (**carsDf1** y **carsDf2**) según corresponda.\n",
        "*  Junte ambos dataframes (**carsDf**) por la llave **Company**."
      ],
      "id": "f984e298"
    },
    {
      "cell_type": "code",
      "metadata": {
        "colab": {
          "base_uri": "https://localhost:8080/",
          "height": 173
        },
        "id": "85e7e1cc",
        "outputId": "d23de2c5-b0dc-4ddf-8d8f-a5c57eb9befd"
      },
      "source": [
        "carsDf1 = pd.DataFrame(Car_Price)\n",
        "carsDf2 = pd.DataFrame(car_Horsepower)\n",
        "carsDf = pd.merge(carsDf1,carsDf2, on='Company')\n",
        "\n",
        "carsDf"
      ],
      "id": "85e7e1cc",
      "execution_count": 142,
      "outputs": [
        {
          "output_type": "execute_result",
          "data": {
            "text/html": [
              "<div>\n",
              "<style scoped>\n",
              "    .dataframe tbody tr th:only-of-type {\n",
              "        vertical-align: middle;\n",
              "    }\n",
              "\n",
              "    .dataframe tbody tr th {\n",
              "        vertical-align: top;\n",
              "    }\n",
              "\n",
              "    .dataframe thead th {\n",
              "        text-align: right;\n",
              "    }\n",
              "</style>\n",
              "<table border=\"1\" class=\"dataframe\">\n",
              "  <thead>\n",
              "    <tr style=\"text-align: right;\">\n",
              "      <th></th>\n",
              "      <th>Company</th>\n",
              "      <th>Price</th>\n",
              "      <th>horsepower</th>\n",
              "    </tr>\n",
              "  </thead>\n",
              "  <tbody>\n",
              "    <tr>\n",
              "      <th>0</th>\n",
              "      <td>Toyota</td>\n",
              "      <td>23845</td>\n",
              "      <td>141</td>\n",
              "    </tr>\n",
              "    <tr>\n",
              "      <th>1</th>\n",
              "      <td>Honda</td>\n",
              "      <td>17995</td>\n",
              "      <td>80</td>\n",
              "    </tr>\n",
              "    <tr>\n",
              "      <th>2</th>\n",
              "      <td>BMV</td>\n",
              "      <td>135925</td>\n",
              "      <td>182</td>\n",
              "    </tr>\n",
              "    <tr>\n",
              "      <th>3</th>\n",
              "      <td>Audi</td>\n",
              "      <td>71400</td>\n",
              "      <td>160</td>\n",
              "    </tr>\n",
              "  </tbody>\n",
              "</table>\n",
              "</div>"
            ],
            "text/plain": [
              "  Company   Price  horsepower\n",
              "0  Toyota   23845         141\n",
              "1   Honda   17995          80\n",
              "2     BMV  135925         182\n",
              "3    Audi   71400         160"
            ]
          },
          "metadata": {},
          "execution_count": 142
        }
      ]
    }
  ]
}